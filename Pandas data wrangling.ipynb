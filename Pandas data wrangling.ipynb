{
 "cells": [
  {
   "cell_type": "raw",
   "metadata": {},
   "source": [
    "# ASSIGNMENT CONFIG\n",
    "requirements: requirements.txt\n",
    "solutions_pdf: true\n",
    "export_cell:\n",
    "    instructions: \"Upload the generated zip file to the Google sheet please. Uploading work which is not yours will lead to non admittance.\"\n",
    "generate: \n",
    "    pdf: false\n",
    "    filtering: false\n",
    "    pagebreaks: true\n",
    "    zips: true"
   ]
  },
  {
   "cell_type": "markdown",
   "metadata": {
    "id": "B1DroRwx3ENZ"
   },
   "source": [
    "## DSA 2023 Summer School Admittance Check\n",
    "\n",
    "Thanks for your interest in attending DSA Kigali 2023. To attend the summer school you have to have some level of basic Python proficiency. Completing the following notebook should ensure you have the right kind of background to benefit maximally from the Summer School. See you in Kigali!"
   ]
  },
  {
   "cell_type": "code",
   "execution_count": 1,
   "metadata": {
    "id": "7Upwjh9U3ENa"
   },
   "outputs": [],
   "source": [
    "# Run these once ... Just in case \n",
    "#!pip install nose \n",
    "#!pip install otter-grader\n",
    "import IPython\n",
    "from IPython import get_ipython\n",
    "# Import the good stuff\n",
    "import pandas as pd\n",
    "import numpy as np\n",
    "import math\n",
    "from nose.tools import assert_equal\n",
    "import otter\n",
    "grader = otter.Notebook()"
   ]
  },
  {
   "cell_type": "raw",
   "metadata": {
    "id": "vBJliosn3ENc"
   },
   "source": [
    "# BEGIN QUESTION\n",
    "name: q1\n",
    "points: 2"
   ]
  },
  {
   "cell_type": "markdown",
   "metadata": {
    "id": "6ibmmx8r3ENc"
   },
   "source": [
    "**Question 1:** Write a Python function to return a tuple of primes and non primes given an integer input "
   ]
  },
  {
   "cell_type": "raw",
   "metadata": {
    "id": "EXaFYdNh3ENc"
   },
   "source": [
    "# BEGIN SOLUTION"
   ]
  },
  {
   "cell_type": "code",
   "execution_count": 2,
   "metadata": {
    "id": "CWjGPqaO3ENc"
   },
   "outputs": [
    {
     "name": "stdout",
     "output_type": "stream",
     "text": [
      "Following are the prime and non prime numbers smaller than or equal to 30\n",
      "((2, 3, 5, 7, 11, 13, 17, 19, 23, 29), (4, 6, 8, 9, 10, 12, 14, 15, 16, 18, 20, 21, 22, 24, 25, 26, 27, 28, 30))\n"
     ]
    }
   ],
   "source": [
    "# BEGIN SOLUTION\n",
    "def sieve(num):\n",
    "    prime = [True for i in range(num+1)]\n",
    "    prime_list = []\n",
    "    not_prime_list = []\n",
    "    \n",
    "    # boolean array\n",
    "    p = 2\n",
    "    while (p * p <= num):\n",
    "\n",
    "        # If prime[p] is not\n",
    "        # changed, then it is a prime\n",
    "        if (prime[p] == True):\n",
    "\n",
    "            # Updating all multiples of p\n",
    "            for i in range(p * p, num+1, p):\n",
    "                prime[i] = False\n",
    "        p += 1\n",
    "   \n",
    "    p = 2\n",
    "    # Create the lists \n",
    "    for p in range(2, num+1):\n",
    "        if prime[p]:\n",
    "            prime_list.append(p)\n",
    "        else: \n",
    "            not_prime_list.append(p)\n",
    "   \n",
    "    # Create the tuple \n",
    "    prime_list_tuple = tuple(prime_list)\n",
    "    not_prime_list_tuple = tuple(not_prime_list)\n",
    "    return_tuple = (prime_list_tuple, not_prime_list_tuple)\n",
    "    return(return_tuple)\n",
    "# END SOLUTION\n",
    "num = 30\n",
    "print(\"Following are the prime and non prime numbers smaller than or equal to\", num)\n",
    "print(sieve(num))"
   ]
  },
  {
   "cell_type": "raw",
   "metadata": {
    "id": "WELGXYcy3ENc"
   },
   "source": [
    "# END SOLUTION"
   ]
  },
  {
   "cell_type": "raw",
   "metadata": {
    "id": "-l5Dzy2t3ENc"
   },
   "source": [
    "# BEGIN TESTS"
   ]
  },
  {
   "cell_type": "code",
   "execution_count": 3,
   "metadata": {
    "id": "jpVT1y5y3ENd"
   },
   "outputs": [],
   "source": [
    "# BEGIN TEST CONFIG\n",
    "points: 2\n",
    "# END TEST CONFIG\n",
    "def test_primes(sieve):\n",
    "    assert sieve(30) == ((2, 3, 5, 7, 11, 13, 17, 19, 23, 29), (4, 6, 8, 9, 10, 12, 14, 15, 16, 18, 20, 21, 22, 24, 25, 26, 27, 28, 30))\n",
    "test_primes(sieve)  "
   ]
  },
  {
   "cell_type": "code",
   "execution_count": 4,
   "metadata": {
    "id": "Sk8NLc_-3ENd"
   },
   "outputs": [],
   "source": [
    "# HIDDEN\n",
    "def test_higher_primes(sieve):\n",
    "    assert sieve(100) == ((2, 3, 5, 7, 11, 13, 17, 19, 23, 29, 31, 37, 41, 43, 47, 53, 59, 61, 67, 71, 73, 79, 83, 89, 97), (4, 6, 8, 9, 10, 12, 14, 15, 16, 18, 20, 21, 22, 24, 25, 26, 27, 28, 30, 32, 33, 34, 35, 36, 38, 39, 40, 42, 44, 45, 46, 48, 49, 50, 51, 52, 54, 55, 56, 57, 58, 60, 62, 63, 64, 65, 66, 68, 69, 70, 72, 74, 75, 76, 77, 78, 80, 81, 82, 84, 85, 86, 87, 88, 90, 91, 92, 93, 94, 95, 96, 98, 99, 100))\n",
    "    assert sieve(200) == ((2, 3, 5, 7, 11, 13, 17, 19, 23, 29, 31, 37, 41, 43, 47, 53, 59, 61, 67, 71, 73, 79, 83, 89, 97, 101, 103, 107, 109, 113, 127, 131, 137, 139, 149, 151, 157, 163, 167, 173, 179, 181, 191, 193, 197, 199), (4, 6, 8, 9, 10, 12, 14, 15, 16, 18, 20, 21, 22, 24, 25, 26, 27, 28, 30, 32, 33, 34, 35, 36, 38, 39, 40, 42, 44, 45, 46, 48, 49, 50, 51, 52, 54, 55, 56, 57, 58, 60, 62, 63, 64, 65, 66, 68, 69, 70, 72, 74, 75, 76, 77, 78, 80, 81, 82, 84, 85, 86, 87, 88, 90, 91, 92, 93, 94, 95, 96, 98, 99, 100, 102, 104, 105, 106, 108, 110, 111, 112, 114, 115, 116, 117, 118, 119, 120, 121, 122, 123, 124, 125, 126, 128, 129, 130, 132, 133, 134, 135, 136, 138, 140, 141, 142, 143, 144, 145, 146, 147, 148, 150, 152, 153, 154, 155, 156, 158, 159, 160, 161, 162, 164, 165, 166, 168, 169, 170, 171, 172, 174, 175, 176, 177, 178, 180, 182, 183, 184, 185, 186, 187, 188, 189, 190, 192, 194, 195, 196, 198, 200))\n",
    "test_higher_primes(sieve) "
   ]
  },
  {
   "cell_type": "raw",
   "metadata": {
    "id": "bYtYmgII3ENd"
   },
   "source": [
    "# END TESTS"
   ]
  },
  {
   "cell_type": "raw",
   "metadata": {
    "id": "WCt-ntOP3ENd"
   },
   "source": [
    "# END QUESTION"
   ]
  },
  {
   "cell_type": "raw",
   "metadata": {
    "id": "-rhq-TSh3ENd"
   },
   "source": [
    "# BEGIN QUESTION\n",
    "name: q2"
   ]
  },
  {
   "cell_type": "markdown",
   "metadata": {
    "id": "ntYqVxEQ3ENd"
   },
   "source": [
    "**Question 2:** Create a dictionary to store the type and number of unique characters in the paragraph provided"
   ]
  },
  {
   "cell_type": "raw",
   "metadata": {
    "id": "NOGImZ6c3ENd"
   },
   "source": [
    "# BEGIN SOLUTION"
   ]
  },
  {
   "cell_type": "code",
   "execution_count": 5,
   "metadata": {
    "id": "LlZ8GC4J3ENe"
   },
   "outputs": [
    {
     "name": "stdout",
     "output_type": "stream",
     "text": [
      "Counter({' ': 192, 'e': 89, 'o': 68, 't': 65, 'i': 60, 's': 57, 'a': 48, 'r': 45, 'n': 42, 'l': 35, 'c': 31, 'd': 27, 'f': 26, 'u': 26, '0': 22, 'm': 20, 'y': 19, 'h': 17, 'w': 16, 'g': 14, '3': 13, '.': 12, 'p': 11, 'b': 11, '1': 11, '2': 10, '7': 10, 'k': 9, ',': 7, '4': 5, 'v': 4, '-': 4, '*': 4, '^': 4, 'T': 3, 'x': 3, '5': 3, '6': 3, '8': 3, '’': 3, '(': 3, ')': 3, 'q': 3, 'O': 3, ':': 2, '9': 2, 'S': 2, 'A': 2, '{': 2, '}': 2, '`': 2, 'I': 1, 'V': 1, 'F': 1, '[': 1, ']': 1, 'W': 1, '<': 1, 'N': 1, '>': 1, '“': 1, '”': 1, '‘': 1, 'E': 1, '/': 1, '\\\\': 1})\n"
     ]
    }
   ],
   "source": [
    "paragraph = \"The following is sample text I used to practice special characters using keybr.com: 112233445566778899 Saturn V rocket’s first stage carries 203,400 gallons (770,000 liters) of kerosene fuel and 318,000 gallons (1.2 million liters) of liquid oxygen needed for combustion. At liftoff, the stage’s five F-1 rocket engines ignite and produce 7.5 million pounds of thrust. To replace those goofy quantities with the far less retarded metric system (even though liters are considered part of the metric system they are the same as cubic deci-meters) you would say 770 cubic meters of kerosene {abbreviated as m3} and 1,204 m3 of liquid O2 [O2 is the symbol for oxygen]. We would also say it produced 33,600,000 newtons of force <abbreviated as N>. To add scientific notation {a way of writing numbers that allows you to write only as many digits `of specificity` as you would like} you can write 7.7 * 10 ^ 2 m3 of kerosene 1.204 * 10 ^ 3 m3 of O2 and 3.3 * 10 ^ 7 newtons. Another way to write scientific notation is to replace the “* 10 ^” with ‘E’ -/capital e\\-. So our numbers would look like:s\"\n",
    "# BEGIN SOLUTION\n",
    "from collections import Counter \n",
    "dictionary = Counter(paragraph)\n",
    "# END SOLUTION\n",
    "print(dictionary)"
   ]
  },
  {
   "cell_type": "raw",
   "metadata": {
    "id": "ZMHF82883ENe"
   },
   "source": [
    "# END SOLUTION"
   ]
  },
  {
   "cell_type": "raw",
   "metadata": {
    "id": "qGIB-11l3ENe"
   },
   "source": [
    "# BEGIN TESTS"
   ]
  },
  {
   "cell_type": "code",
   "execution_count": 6,
   "metadata": {
    "id": "CP4wqwWV3ENe"
   },
   "outputs": [],
   "source": [
    "# BEGIN TEST CONFIG\n",
    "points: 2\n",
    "# END TEST CONFIG\n",
    "def test_dictionary(Counter):\n",
    "    assert Counter(paragraph) == {' ': 192, 'e': 89, 'o': 68, 't': 65, 'i': 60, 's': 57, 'a': 48, 'r': 45, 'n': 42, 'l': 35, 'c': 31, 'd': 27, 'f': 26, 'u': 26, '0': 22, 'm': 20, 'y': 19, 'h': 17, 'w': 16, 'g': 14, '3': 13, '.': 12, 'p': 11, 'b': 11, '1': 11, '2': 10, '7': 10, 'k': 9, ',': 7, '4': 5, 'v': 4, '-': 4, '*': 4, '^': 4, 'T': 3, 'x': 3, '5': 3, '6': 3, '8': 3, '’': 3, '(': 3, ')': 3, 'q': 3, 'O': 3, ':': 2, '9': 2, 'S': 2, 'A': 2, '{': 2, '}': 2, '`': 2, 'I': 1, 'V': 1, 'F': 1, '[': 1, ']': 1, 'W': 1, '<': 1, 'N': 1, '>': 1, '“': 1, '”': 1, '‘': 1, 'E': 1, '/': 1, '\\\\': 1}\n",
    "test_dictionary(Counter)  # IGNORE"
   ]
  },
  {
   "cell_type": "raw",
   "metadata": {
    "id": "cWfRARkE3ENe"
   },
   "source": [
    "# END TESTS"
   ]
  },
  {
   "cell_type": "raw",
   "metadata": {
    "id": "sRzpWlU63ENe"
   },
   "source": [
    "# END QUESTION"
   ]
  },
  {
   "cell_type": "raw",
   "metadata": {
    "id": "OcdDoYHo3ENe"
   },
   "source": [
    "# BEGIN QUESTION\n",
    "name: q3"
   ]
  },
  {
   "cell_type": "markdown",
   "metadata": {
    "id": "ylvPVW8m3ENe"
   },
   "source": [
    "**Question 3:** Extract the values from the dictionary above into a list"
   ]
  },
  {
   "cell_type": "raw",
   "metadata": {
    "id": "FEq77ujs2nOZ"
   },
   "source": [
    "# BEGIN SOLUTION"
   ]
  },
  {
   "cell_type": "code",
   "execution_count": 7,
   "metadata": {
    "id": "I50ccd1SJMn4"
   },
   "outputs": [
    {
     "name": "stdout",
     "output_type": "stream",
     "text": [
      "['T', 'h', 'e', ' ', 'f', 'o', 'l', 'w', 'i', 'n', 'g', 's', 'a', 'm', 'p', 't', 'x', 'I', 'u', 'd', 'r', 'c', 'k', 'y', 'b', '.', ':', '1', '2', '3', '4', '5', '6', '7', '8', '9', 'S', 'V', '’', '0', ',', '(', ')', 'q', 'A', 'v', 'F', '-', '{', '}', 'O', '[', ']', 'W', '<', 'N', '>', '`', '*', '^', '“', '”', '‘', 'E', '/', '\\\\']\n"
     ]
    }
   ],
   "source": [
    "# BEGIN SOLUTION\n",
    "keysList = list(dictionary.keys()) \n",
    "# END SOLUTION\n",
    "print (keysList)"
   ]
  },
  {
   "cell_type": "raw",
   "metadata": {
    "id": "AlBvbY8y3mzV"
   },
   "source": [
    "# END SOLUTION"
   ]
  },
  {
   "cell_type": "raw",
   "metadata": {
    "id": "cSTiSuKN3mzW"
   },
   "source": [
    "# BEGIN TESTS"
   ]
  },
  {
   "cell_type": "code",
   "execution_count": 8,
   "metadata": {
    "id": "TY8fZw062nOZ"
   },
   "outputs": [],
   "source": [
    "# BEGIN TEST CONFIG\n",
    "points: 2\n",
    "# END TEST CONFIG\n",
    "def test_keyslist():\n",
    "    assert list(dictionary.keys()) == ['T', 'h', 'e', ' ', 'f', 'o', 'l', 'w', 'i', 'n', 'g', 's', 'a', 'm', 'p', 't', 'x', 'I', 'u', 'd', 'r', 'c', 'k', 'y', 'b', '.', ':', '1', '2', '3', '4', '5', '6', '7', '8', '9', 'S', 'V', '’', '0', ',', '(', ')', 'q', 'A', 'v', 'F', '-', '{', '}', 'O', '[', ']', 'W', '<', 'N', '>', '`', '*', '^', '“', '”', '‘', 'E', '/', '\\\\']\n",
    "test_keyslist() "
   ]
  },
  {
   "cell_type": "raw",
   "metadata": {
    "id": "zDnw0nCz3wqF"
   },
   "source": [
    "# END TESTS"
   ]
  },
  {
   "cell_type": "raw",
   "metadata": {
    "id": "tHcVR_3j3wqG"
   },
   "source": [
    "# END QUESTION"
   ]
  },
  {
   "cell_type": "raw",
   "metadata": {
    "id": "6ELH7pQ_2nOa"
   },
   "source": [
    "# BEGIN QUESTION\n",
    "name: q4"
   ]
  },
  {
   "cell_type": "markdown",
   "metadata": {
    "id": "hucvAvprJMn5"
   },
   "source": [
    "**Question 4:** Extract the keys from the dictionary above into a list"
   ]
  },
  {
   "cell_type": "raw",
   "metadata": {
    "id": "Qes2HItd2nOa"
   },
   "source": [
    "# BEGIN SOLUTION"
   ]
  },
  {
   "cell_type": "code",
   "execution_count": 9,
   "metadata": {
    "id": "wLHoBNERJMn5"
   },
   "outputs": [
    {
     "name": "stdout",
     "output_type": "stream",
     "text": [
      "[3, 17, 89, 192, 26, 68, 35, 16, 60, 42, 14, 57, 48, 20, 11, 65, 3, 1, 26, 27, 45, 31, 9, 19, 11, 12, 2, 11, 10, 13, 5, 3, 3, 10, 3, 2, 2, 1, 3, 22, 7, 3, 3, 3, 2, 4, 1, 4, 2, 2, 3, 1, 1, 1, 1, 1, 1, 2, 4, 4, 1, 1, 1, 1, 1, 1]\n"
     ]
    }
   ],
   "source": [
    "# BEGIN SOLUTION\n",
    "valuesList = list(dictionary.values()) \n",
    "# END SOLUTION\n",
    "print (valuesList)"
   ]
  },
  {
   "cell_type": "raw",
   "metadata": {
    "id": "x8qGI7gi2nOa"
   },
   "source": [
    "# END SOLUTION"
   ]
  },
  {
   "cell_type": "raw",
   "metadata": {},
   "source": [
    "# BEGIN TESTS"
   ]
  },
  {
   "cell_type": "code",
   "execution_count": 10,
   "metadata": {
    "id": "cdyzKGlN2nOa"
   },
   "outputs": [],
   "source": [
    "# BEGIN TEST CONFIG\n",
    "points: 2\n",
    "# END TEST CONFIG\n",
    "def test_valueslist():\n",
    "    assert list(dictionary.values()) == [3, 17, 89, 192, 26, 68, 35, 16, 60, 42, 14, 57, 48, 20, 11, 65, 3, 1, 26, 27, 45, 31, 9, 19, 11, 12, 2, 11, 10, 13, 5, 3, 3, 10, 3, 2, 2, 1, 3, 22, 7, 3, 3, 3, 2, 4, 1, 4, 2, 2, 3, 1, 1, 1, 1, 1, 1, 2, 4, 4, 1, 1, 1, 1, 1, 1]\n",
    "test_valueslist()  # IGNORE"
   ]
  },
  {
   "cell_type": "raw",
   "metadata": {
    "id": "7lt8vzzM2nOa"
   },
   "source": [
    "# END TESTS"
   ]
  },
  {
   "cell_type": "raw",
   "metadata": {},
   "source": [
    "# END QUESTION"
   ]
  },
  {
   "cell_type": "raw",
   "metadata": {
    "id": "aWa5fdyi2nOa"
   },
   "source": [
    "# BEGIN QUESTION\n",
    "name: q5"
   ]
  },
  {
   "cell_type": "markdown",
   "metadata": {
    "id": "9PpnMsGpJMn5"
   },
   "source": [
    "**Question 5:** Merge the two lists into a tuple"
   ]
  },
  {
   "cell_type": "raw",
   "metadata": {},
   "source": [
    "# BEGIN SOLUTION"
   ]
  },
  {
   "cell_type": "code",
   "execution_count": 11,
   "metadata": {
    "id": "UDWWh3vQJMn5"
   },
   "outputs": [
    {
     "name": "stdout",
     "output_type": "stream",
     "text": [
      "(('T', 'h', 'e', ' ', 'f', 'o', 'l', 'w', 'i', 'n', 'g', 's', 'a', 'm', 'p', 't', 'x', 'I', 'u', 'd', 'r', 'c', 'k', 'y', 'b', '.', ':', '1', '2', '3', '4', '5', '6', '7', '8', '9', 'S', 'V', '’', '0', ',', '(', ')', 'q', 'A', 'v', 'F', '-', '{', '}', 'O', '[', ']', 'W', '<', 'N', '>', '`', '*', '^', '“', '”', '‘', 'E', '/', '\\\\'), (3, 17, 89, 192, 26, 68, 35, 16, 60, 42, 14, 57, 48, 20, 11, 65, 3, 1, 26, 27, 45, 31, 9, 19, 11, 12, 2, 11, 10, 13, 5, 3, 3, 10, 3, 2, 2, 1, 3, 22, 7, 3, 3, 3, 2, 4, 1, 4, 2, 2, 3, 1, 1, 1, 1, 1, 1, 2, 4, 4, 1, 1, 1, 1, 1, 1))\n"
     ]
    }
   ],
   "source": [
    "# BEGIN SOLUTION\n",
    "keys_tuple = tuple(keysList)\n",
    "values_tuple = tuple(valuesList)\n",
    "final_tuple = (keys_tuple, values_tuple)\n",
    "# END SOLUTION\n",
    "print(final_tuple)"
   ]
  },
  {
   "cell_type": "raw",
   "metadata": {},
   "source": [
    "# END SOLUTION"
   ]
  },
  {
   "cell_type": "raw",
   "metadata": {
    "id": "1Aeg14Gw2nOb"
   },
   "source": [
    "# BEGIN TESTS"
   ]
  },
  {
   "cell_type": "code",
   "execution_count": 12,
   "metadata": {
    "id": "AiIqLg5-2nOb"
   },
   "outputs": [],
   "source": [
    "# BEGIN TEST CONFIG\n",
    "points: 2\n",
    "# END TEST CONFIG\n",
    "def test_tuple():\n",
    "    assert final_tuple == (('T', 'h', 'e', ' ', 'f', 'o', 'l', 'w', 'i', 'n', 'g', 's', 'a', 'm', 'p', 't', 'x', 'I', 'u', 'd', 'r', 'c', 'k', 'y', 'b', '.', ':', '1', '2', '3', '4', '5', '6', '7', '8', '9', 'S', 'V', '’', '0', ',', '(', ')', 'q', 'A', 'v', 'F', '-', '{', '}', 'O', '[', ']', 'W', '<', 'N', '>', '`', '*', '^', '“', '”', '‘', 'E', '/', '\\\\'), (3, 17, 89, 192, 26, 68, 35, 16, 60, 42, 14, 57, 48, 20, 11, 65, 3, 1, 26, 27, 45, 31, 9, 19, 11, 12, 2, 11, 10, 13, 5, 3, 3, 10, 3, 2, 2, 1, 3, 22, 7, 3, 3, 3, 2, 4, 1, 4, 2, 2, 3, 1, 1, 1, 1, 1, 1, 2, 4, 4, 1, 1, 1, 1, 1, 1))\n",
    "test_tuple() "
   ]
  },
  {
   "cell_type": "raw",
   "metadata": {
    "id": "CruivWVY2nOb"
   },
   "source": [
    "# END TESTS"
   ]
  },
  {
   "cell_type": "raw",
   "metadata": {},
   "source": [
    "# END QUESTION"
   ]
  },
  {
   "cell_type": "raw",
   "metadata": {},
   "source": [
    "# BEGIN QUESTION \n",
    "name: q6\n",
    "points: 10"
   ]
  },
  {
   "cell_type": "markdown",
   "metadata": {},
   "source": [
    "**Question 6:**  Write a function `greatest_common_divisor` that takes two inputs `a` and `b` and returns the greatest common divisor of the two numbers. E.g. input `(10, 15)` would return `5`"
   ]
  },
  {
   "cell_type": "raw",
   "metadata": {},
   "source": [
    "# BEGIN SOLUTION"
   ]
  },
  {
   "cell_type": "code",
   "execution_count": 13,
   "metadata": {},
   "outputs": [],
   "source": [
    "def greatest_common_divisor(a, b):\n",
    "    # BEGIN SOLUTION\n",
    "    aa = a if a < b else b\n",
    "    divisors = [i for i in range(1, aa+1) if a % i == 0 and b % i == 0]\n",
    "    return divisors[-1]\n",
    "    # END SOLUTION"
   ]
  },
  {
   "cell_type": "raw",
   "metadata": {},
   "source": [
    "# END SOLUTION"
   ]
  },
  {
   "cell_type": "raw",
   "metadata": {},
   "source": [
    "# BEGIN TESTS"
   ]
  },
  {
   "cell_type": "code",
   "execution_count": 14,
   "metadata": {},
   "outputs": [],
   "source": [
    "assert_equal(greatest_common_divisor(10, 15), 5)"
   ]
  },
  {
   "cell_type": "code",
   "execution_count": 15,
   "metadata": {},
   "outputs": [],
   "source": [
    "# HIDDEN\n",
    "assert_equal(greatest_common_divisor(15, 19), 1)"
   ]
  },
  {
   "cell_type": "code",
   "execution_count": 16,
   "metadata": {},
   "outputs": [],
   "source": [
    "# HIDDEN\n",
    "assert_equal(greatest_common_divisor(100, 105), 5)"
   ]
  },
  {
   "cell_type": "code",
   "execution_count": 17,
   "metadata": {},
   "outputs": [],
   "source": [
    "# HIDDEN\n",
    "assert_equal(greatest_common_divisor(4, 2), 2)"
   ]
  },
  {
   "cell_type": "code",
   "execution_count": 18,
   "metadata": {},
   "outputs": [],
   "source": [
    "# HIDDEN\n",
    "assert_equal(greatest_common_divisor(20, 16), 4)"
   ]
  },
  {
   "cell_type": "raw",
   "metadata": {},
   "source": [
    "# END TESTS"
   ]
  },
  {
   "cell_type": "raw",
   "metadata": {},
   "source": [
    "# END QUESTION"
   ]
  },
  {
   "cell_type": "raw",
   "metadata": {},
   "source": [
    "# BEGIN QUESTION\n",
    "name: q7\n",
    "points: 10"
   ]
  },
  {
   "cell_type": "markdown",
   "metadata": {},
   "source": [
    "**Question 7:**  Write a function `get_nearest_farthest` that takes in a point of interest (pt) and a list of points and returns the nearest point and the farthest point from the point of intest."
   ]
  },
  {
   "cell_type": "raw",
   "metadata": {},
   "source": [
    "# BEGIN SOLUTION"
   ]
  },
  {
   "cell_type": "code",
   "execution_count": 19,
   "metadata": {},
   "outputs": [],
   "source": [
    "def get_nearest_farthest(pt, ptlist):\n",
    "    # BEGIN SOLUTION\n",
    "    def dist(a, b):\n",
    "        x1, y1 = a\n",
    "        x2, y2 = b\n",
    "        return math.sqrt((y2 - y1)**2 + (x2 - x1)**2)\n",
    "    \n",
    "    pts = sorted([(ptt, dist(pt, ptt)) for ptt in ptlist], key=lambda tp: tp[1])\n",
    "    return pts[0][0], pts[-1][0]\n",
    "    # END SOLUTION"
   ]
  },
  {
   "cell_type": "raw",
   "metadata": {},
   "source": [
    "# END SOLUTION"
   ]
  },
  {
   "cell_type": "raw",
   "metadata": {},
   "source": [
    "# BEGIN TESTS"
   ]
  },
  {
   "cell_type": "code",
   "execution_count": 20,
   "metadata": {},
   "outputs": [],
   "source": [
    "assert_equal(get_nearest_farthest((3, 8), [(9, 3), (8,5), (7,6)]), ((7, 6), (9, 3)))"
   ]
  },
  {
   "cell_type": "code",
   "execution_count": 21,
   "metadata": {},
   "outputs": [],
   "source": [
    "# HIDDEN\n",
    "assert_equal(get_nearest_farthest((12,8), [(5,9), (9,1), (2,4), (13,9), (10,12)]), ((13, 9), (2, 4)))"
   ]
  },
  {
   "cell_type": "code",
   "execution_count": 22,
   "metadata": {},
   "outputs": [],
   "source": [
    "# HIDDEN\n",
    "assert_equal(get_nearest_farthest((5,8), [(5,9), (9,1), (2,4), (13,9), (10,12)]), ((5, 9), (13, 9)))"
   ]
  },
  {
   "cell_type": "code",
   "execution_count": 23,
   "metadata": {},
   "outputs": [],
   "source": [
    "# HIDDEN\n",
    "assert_equal(get_nearest_farthest((12,2), [(5,9), (9,1), (2,4), (13,9), (10,12)]), ((9, 1), (10, 12)))"
   ]
  },
  {
   "cell_type": "code",
   "execution_count": 24,
   "metadata": {},
   "outputs": [],
   "source": [
    "# HIDDEN\n",
    "assert_equal(get_nearest_farthest((12, 2), [(9, 3), (8,5), (7,6)]), ((9, 3), (7, 6)))"
   ]
  },
  {
   "cell_type": "raw",
   "metadata": {},
   "source": [
    "# END TESTS"
   ]
  },
  {
   "cell_type": "raw",
   "metadata": {},
   "source": [
    "# END QUESTION"
   ]
  },
  {
   "cell_type": "raw",
   "metadata": {},
   "source": [
    "# BEGIN QUESTION\n",
    "name: q8\n",
    "points: 5"
   ]
  },
  {
   "cell_type": "markdown",
   "metadata": {},
   "source": [
    "**Question 8:**  Write a function `perfectly_divisible` to return a list of numbers between 0 and a number $N$ that are perfectly divisible by $q$ (with out leaving a remainder). <br>\n",
    "**Hint**: $N$ should also be inclusive in the numbers being considered. If N is negative use N == 20"
   ]
  },
  {
   "cell_type": "raw",
   "metadata": {},
   "source": [
    "# BEGIN SOLUTION"
   ]
  },
  {
   "cell_type": "code",
   "execution_count": 25,
   "metadata": {},
   "outputs": [],
   "source": [
    "def perfectly_divisible(N, q):\n",
    "    # BEGIN SOLUTION\n",
    "    N = 20 if N < 0 else N\n",
    "    return [num for num in range(N+1) if num%q == 0]\n",
    "    # END SOLUTION"
   ]
  },
  {
   "cell_type": "raw",
   "metadata": {},
   "source": [
    "# END SOLUTION"
   ]
  },
  {
   "cell_type": "raw",
   "metadata": {},
   "source": [
    "# BEGIN TESTS"
   ]
  },
  {
   "cell_type": "code",
   "execution_count": 26,
   "metadata": {},
   "outputs": [],
   "source": [
    "assert_equal(perfectly_divisible(10,2), [0,2,4,6,8,10])"
   ]
  },
  {
   "cell_type": "code",
   "execution_count": 27,
   "metadata": {},
   "outputs": [],
   "source": [
    "# HIDDEN\n",
    "assert_equal(perfectly_divisible(-10,2), [0,2,4,6,8,10,12,14,16,18,20])"
   ]
  },
  {
   "cell_type": "code",
   "execution_count": 28,
   "metadata": {},
   "outputs": [],
   "source": [
    "# HIDDEN\n",
    "assert_equal(perfectly_divisible(6,4), [0,4])"
   ]
  },
  {
   "cell_type": "code",
   "execution_count": 29,
   "metadata": {},
   "outputs": [],
   "source": [
    "# HIDDEN\n",
    "assert_equal(perfectly_divisible(-6,4), [0, 4, 8, 12, 16, 20])"
   ]
  },
  {
   "cell_type": "code",
   "execution_count": 30,
   "metadata": {},
   "outputs": [],
   "source": [
    "# HIDDEN\n",
    "assert_equal(perfectly_divisible(56,24), [0, 24, 48])"
   ]
  },
  {
   "cell_type": "raw",
   "metadata": {},
   "source": [
    "# END TESTS"
   ]
  },
  {
   "cell_type": "raw",
   "metadata": {},
   "source": [
    "# END QUESTION"
   ]
  },
  {
   "cell_type": "raw",
   "metadata": {},
   "source": [
    "# BEGIN QUESTION\n",
    "name: q9\n",
    "points: 4"
   ]
  },
  {
   "cell_type": "markdown",
   "metadata": {},
   "source": [
    "**Question 9:**  Write a function `flatten_lists` that takes in a list of lists and outputs a sorted list of elements of sublists of the input list (confusing right?) <br>\n",
    "Example: given `flatten_lists([[2,13,44], [6,7]])` it should return `[2,6,7,13,44]`"
   ]
  },
  {
   "cell_type": "raw",
   "metadata": {},
   "source": [
    "# BEGIN SOLUTION"
   ]
  },
  {
   "cell_type": "code",
   "execution_count": 31,
   "metadata": {},
   "outputs": [],
   "source": [
    "def flatten_lists(superlist):\n",
    "    # BEGIN SOLUTION\n",
    "    answer = []\n",
    "    for i in superlist:\n",
    "        for j in i:\n",
    "            answer.append(j)\n",
    "    return sorted(answer)\n",
    "    # END SOLUTION"
   ]
  },
  {
   "cell_type": "raw",
   "metadata": {},
   "source": [
    "# END SOLUTION"
   ]
  },
  {
   "cell_type": "raw",
   "metadata": {},
   "source": [
    "# BEGIN TESTS"
   ]
  },
  {
   "cell_type": "code",
   "execution_count": 32,
   "metadata": {},
   "outputs": [],
   "source": [
    "assert_equal(flatten_lists([[2,13,44], [6,7]]), [2, 6, 7, 13, 44])"
   ]
  },
  {
   "cell_type": "code",
   "execution_count": 33,
   "metadata": {},
   "outputs": [],
   "source": [
    "# HIDDEN\n",
    "assert_equal(flatten_lists([[2], [61,34,5,8,9]]), [2, 5, 8, 9, 34, 61])"
   ]
  },
  {
   "cell_type": "code",
   "execution_count": 34,
   "metadata": {},
   "outputs": [],
   "source": [
    "# HIDDEN\n",
    "assert_equal(flatten_lists([[3,2,1,5], [8,9], [5,4,4,6]]), [1, 2, 3, 4, 4, 5, 5, 6, 8, 9])"
   ]
  },
  {
   "cell_type": "code",
   "execution_count": 35,
   "metadata": {},
   "outputs": [],
   "source": [
    "# HIDDEN\n",
    "assert_equal(flatten_lists([[3,2,1,5], [8,9], [5,4,4,6], [3]]), [1, 2, 3, 3, 4, 4, 5, 5, 6, 8, 9])"
   ]
  },
  {
   "cell_type": "raw",
   "metadata": {},
   "source": [
    "# END TESTS"
   ]
  },
  {
   "cell_type": "raw",
   "metadata": {},
   "source": [
    "# END QUESTION"
   ]
  },
  {
   "cell_type": "markdown",
   "metadata": {},
   "source": [
    "**The Extra Mile!** "
   ]
  },
  {
   "cell_type": "markdown",
   "metadata": {
    "id": "_egf664jJMn5"
   },
   "source": [
    "**Download the dataset \"Nakuru Sensor Data for February 2023 from https://open.africa/dataset/sensorsafrica-airquality-archive-nakuru/resource/14165682-37dd-4f40-914e-eb24619e4ef8\"**\n",
    "\n",
    "Load the 'timestamp','value_type' and 'value' collumns into a pandas dataframe "
   ]
  },
  {
   "cell_type": "code",
   "execution_count": 36,
   "metadata": {
    "id": "r2lE0yrPJMn5"
   },
   "outputs": [
    {
     "name": "stdout",
     "output_type": "stream",
     "text": [
      "                              timestamp   value_type  value\n",
      "0      2023-02-04T04:22:51.323124+00:00     humidity    100\n",
      "1      2023-02-04T04:22:51.323124+00:00  temperature     12\n",
      "2      2023-02-04T04:22:51.323125+00:00           P2     27\n",
      "3      2023-02-04T04:22:51.323125+00:00           P1     59\n",
      "4      2023-02-04T04:25:32.354784+00:00     humidity    100\n",
      "...                                 ...          ...    ...\n",
      "42985  2023-02-24T07:51:55.687329+00:00  temperature     27\n",
      "42986  2023-02-24T07:54:35.530536+00:00     humidity     59\n",
      "42987  2023-02-24T07:54:35.530536+00:00  temperature     27\n",
      "42988  2023-02-24T07:54:35.530545+00:00           P2      0\n",
      "42989  2023-02-24T07:54:35.530545+00:00           P1      0\n",
      "\n",
      "[42990 rows x 3 columns]\n"
     ]
    }
   ],
   "source": [
    "import pandas as pd\n",
    "from functools import reduce\n",
    "\n",
    "#Load the 'timestamp','value_type' and 'value' collumns into a pandas dataframe \n",
    "#path to my csv\n",
    "my_csv_path='Nakuru_Sensor_Data_Feb_2023.csv'\n",
    "#we use a separation delimiter ; for our data\n",
    "df = pd.read_csv(my_csv_path,sep=';',usecols=['timestamp','value_type','value'])\n",
    "\n",
    "print(df)"
   ]
  },
  {
   "cell_type": "raw",
   "metadata": {},
   "source": [
    "# BEGIN QUESTION\n",
    "name: q_E1"
   ]
  },
  {
   "cell_type": "markdown",
   "metadata": {
    "id": "Er6lemMeJMn5"
   },
   "source": [
    "**Question E1:** Create a new collumn 'timestamp_new' from 'timestamp' rounded off to the second "
   ]
  },
  {
   "cell_type": "raw",
   "metadata": {},
   "source": [
    "# BEGIN SOLUTION"
   ]
  },
  {
   "cell_type": "code",
   "execution_count": 37,
   "metadata": {
    "id": "sQq3JIaVJMn5"
   },
   "outputs": [
    {
     "name": "stdout",
     "output_type": "stream",
     "text": [
      "                             timestamp   value_type  value  \\\n",
      "0     2023-02-04 04:22:51.323124+00:00     humidity    100   \n",
      "1     2023-02-04 04:22:51.323124+00:00  temperature     12   \n",
      "2     2023-02-04 04:22:51.323125+00:00           P2     27   \n",
      "3     2023-02-04 04:22:51.323125+00:00           P1     59   \n",
      "4     2023-02-04 04:25:32.354784+00:00     humidity    100   \n",
      "...                                ...          ...    ...   \n",
      "42985 2023-02-24 07:51:55.687329+00:00  temperature     27   \n",
      "42986 2023-02-24 07:54:35.530536+00:00     humidity     59   \n",
      "42987 2023-02-24 07:54:35.530536+00:00  temperature     27   \n",
      "42988 2023-02-24 07:54:35.530545+00:00           P2      0   \n",
      "42989 2023-02-24 07:54:35.530545+00:00           P1      0   \n",
      "\n",
      "                  timestamp_new  \n",
      "0     2023-02-04 04:22:51+00:00  \n",
      "1     2023-02-04 04:22:51+00:00  \n",
      "2     2023-02-04 04:22:51+00:00  \n",
      "3     2023-02-04 04:22:51+00:00  \n",
      "4     2023-02-04 04:25:32+00:00  \n",
      "...                         ...  \n",
      "42985 2023-02-24 07:51:56+00:00  \n",
      "42986 2023-02-24 07:54:36+00:00  \n",
      "42987 2023-02-24 07:54:36+00:00  \n",
      "42988 2023-02-24 07:54:36+00:00  \n",
      "42989 2023-02-24 07:54:36+00:00  \n",
      "\n",
      "[42990 rows x 4 columns]\n"
     ]
    }
   ],
   "source": [
    "# BEGIN SOLUTION\n",
    "df['timestamp'] = pd.to_datetime(df['timestamp'], infer_datetime_format=True)\n",
    "df['timestamp_new'] = df['timestamp'].dt.round('S') # SOLUTION #rounded off to the next second\n",
    "# END SOLUTION\n",
    "print(df)"
   ]
  },
  {
   "cell_type": "raw",
   "metadata": {},
   "source": [
    "# END SOLUTION"
   ]
  },
  {
   "cell_type": "raw",
   "metadata": {},
   "source": [
    "# END QUESTION"
   ]
  },
  {
   "cell_type": "raw",
   "metadata": {},
   "source": [
    "# BEGIN QUESTION\n",
    "name: q_E2"
   ]
  },
  {
   "cell_type": "markdown",
   "metadata": {
    "id": "_HM8DysCJMn6"
   },
   "source": [
    "**Question E2:** Split the dataframe based on the 'value_type' collumn"
   ]
  },
  {
   "cell_type": "raw",
   "metadata": {},
   "source": [
    "# BEGIN SOLUTION"
   ]
  },
  {
   "cell_type": "code",
   "execution_count": 38,
   "metadata": {
    "id": "z3NUYMOZJMn6"
   },
   "outputs": [],
   "source": [
    "grouped = df.groupby(df.value_type) # SOLUTION\n",
    "df_temperature = grouped.get_group(\"temperature\") # SOLUTION\n",
    "df_humidity = grouped.get_group(\"humidity\") # SOLUTION\n",
    "df_P1 = grouped.get_group(\"P1\") # SOLUTION\n",
    "df_P2 = grouped.get_group(\"P2\") # SOLUTION"
   ]
  },
  {
   "cell_type": "raw",
   "metadata": {},
   "source": [
    "# END SOLUTION"
   ]
  },
  {
   "cell_type": "raw",
   "metadata": {},
   "source": [
    "# END QUESTION"
   ]
  },
  {
   "cell_type": "raw",
   "metadata": {},
   "source": [
    "# BEGIN QUESTION\n",
    "name: q_E3"
   ]
  },
  {
   "cell_type": "markdown",
   "metadata": {
    "id": "YAEsAuUvJMn6"
   },
   "source": [
    "**Question E3:** Find the mean, mode and median of the humidity, temperature, P1 and P2 values"
   ]
  },
  {
   "cell_type": "raw",
   "metadata": {},
   "source": [
    "# BEGIN SOLUTION"
   ]
  },
  {
   "cell_type": "code",
   "execution_count": 39,
   "metadata": {
    "id": "14T6jzZ_JMn6"
   },
   "outputs": [
    {
     "name": "stdout",
     "output_type": "stream",
     "text": [
      "Temperature\n",
      "Mean =  22.35287548855388 Median =  22.0 Mode =  14\n",
      "Humidity\n",
      "Mean =  64.31109249953471 Median =  61.0 Mode =  100\n",
      "P1\n",
      "Mean =  28.508605451669922 Median =  20.0 Mode =  0\n",
      "P2\n",
      "Mean =  11.30142338822216 Median =  8.0 Mode =  0\n"
     ]
    }
   ],
   "source": [
    "# BEGIN SOLUTION\n",
    "#from scipy import stats\n",
    "mu_temp, med_temp, sd_temp = np.mean(df_temperature['value']), np.median(df_temperature['value']), df_temperature['value'].mode()[0]\n",
    "# END SOLUTION\n",
    "print(\"Temperature\")\n",
    "print(\"Mean = \",mu_temp, \"Median = \", med_temp, \"Mode = \", sd_temp)\n",
    "\n",
    "# BEGIN SOLUTION\n",
    "mu_humidity, med_humidity, sd_humidity = np.mean(df_humidity['value']), np.median(df_humidity['value']), df_humidity['value'].mode()[0]\n",
    "# END SOLUTION\n",
    "print(\"Humidity\")\n",
    "print(\"Mean = \",mu_humidity, \"Median = \", med_humidity, \"Mode = \", sd_humidity)\n",
    "\n",
    "# BEGIN SOLUTION\n",
    "mu_P1, med_P1, sd_P1 = np.mean(df_P1['value']), np.median(df_P1['value']), df_P1['value'].mode()[0]\n",
    "# END SOLUTION\n",
    "print(\"P1\")\n",
    "print(\"Mean = \",mu_P1, \"Median = \", med_P1, \"Mode = \", sd_P1)\n",
    "\n",
    "# BEGIN SOLUTION\n",
    "mu_P2, med_P2, sd_P2 = np.mean(df_P2['value']), np.median(df_P2['value']), df_P2['value'].mode()[0]\n",
    "# END SOLUTION\n",
    "print(\"P2\")\n",
    "print(\"Mean = \",mu_P2, \"Median = \", med_P2, \"Mode = \", sd_P2)\n"
   ]
  },
  {
   "cell_type": "raw",
   "metadata": {},
   "source": [
    "# END SOLUTION"
   ]
  },
  {
   "cell_type": "raw",
   "metadata": {},
   "source": [
    "# END QUESTION"
   ]
  },
  {
   "cell_type": "raw",
   "metadata": {},
   "source": [
    "# BEGIN QUESTION\n",
    "name: q_E4"
   ]
  },
  {
   "cell_type": "markdown",
   "metadata": {
    "id": "EKWBykh-JMn6"
   },
   "source": [
    "**Question E4:** Merge the grouped dataframes into one dataframe and save it as newdata.csv"
   ]
  },
  {
   "cell_type": "raw",
   "metadata": {},
   "source": [
    "# BEGIN SOLUTION"
   ]
  },
  {
   "cell_type": "code",
   "execution_count": 40,
   "metadata": {
    "id": "4mQSIPfhJMn6"
   },
   "outputs": [
    {
     "name": "stdout",
     "output_type": "stream",
     "text": [
      "                 timestamp_temperature value_type_temperature  \\\n",
      "0     2023-02-04 04:22:51.323124+00:00            temperature   \n",
      "1     2023-02-04 04:25:32.354784+00:00            temperature   \n",
      "2     2023-02-04 04:28:12.716734+00:00            temperature   \n",
      "3     2023-02-04 04:30:52.437513+00:00            temperature   \n",
      "4     2023-02-04 04:33:32.677578+00:00            temperature   \n",
      "...                                ...                    ...   \n",
      "10741 2023-02-24 07:43:55.358126+00:00            temperature   \n",
      "10742 2023-02-24 07:46:35.195100+00:00            temperature   \n",
      "10743 2023-02-24 07:49:15.756956+00:00            temperature   \n",
      "10744 2023-02-24 07:51:55.687329+00:00            temperature   \n",
      "10745 2023-02-24 07:54:35.530536+00:00            temperature   \n",
      "\n",
      "       value_temperature             timestamp_new  \\\n",
      "0                     12 2023-02-04 04:22:51+00:00   \n",
      "1                     11 2023-02-04 04:25:32+00:00   \n",
      "2                     12 2023-02-04 04:28:13+00:00   \n",
      "3                     12 2023-02-04 04:30:52+00:00   \n",
      "4                     12 2023-02-04 04:33:33+00:00   \n",
      "...                  ...                       ...   \n",
      "10741                 26 2023-02-24 07:43:55+00:00   \n",
      "10742                 26 2023-02-24 07:46:35+00:00   \n",
      "10743                 26 2023-02-24 07:49:16+00:00   \n",
      "10744                 27 2023-02-24 07:51:56+00:00   \n",
      "10745                 27 2023-02-24 07:54:36+00:00   \n",
      "\n",
      "                    timestamp_humidity value_type_humidity  value_humidity  \\\n",
      "0     2023-02-04 04:22:51.323124+00:00            humidity             100   \n",
      "1     2023-02-04 04:25:32.354784+00:00            humidity             100   \n",
      "2     2023-02-04 04:28:12.716734+00:00            humidity             100   \n",
      "3     2023-02-04 04:30:52.437513+00:00            humidity             100   \n",
      "4     2023-02-04 04:33:32.677578+00:00            humidity             100   \n",
      "...                                ...                 ...             ...   \n",
      "10741 2023-02-24 07:43:55.358126+00:00            humidity              60   \n",
      "10742 2023-02-24 07:46:35.195100+00:00            humidity              60   \n",
      "10743 2023-02-24 07:49:15.756956+00:00            humidity              59   \n",
      "10744 2023-02-24 07:51:55.687329+00:00            humidity              59   \n",
      "10745 2023-02-24 07:54:35.530536+00:00            humidity              59   \n",
      "\n",
      "                          timestamp_P1 value_type_P1  value_P1  \\\n",
      "0     2023-02-04 04:22:51.323125+00:00            P1      59.0   \n",
      "1     2023-02-04 04:25:32.355326+00:00            P1      51.0   \n",
      "2     2023-02-04 04:28:12.715838+00:00            P1      56.0   \n",
      "3     2023-02-04 04:30:52.437520+00:00            P1      56.0   \n",
      "4     2023-02-04 04:33:32.678818+00:00            P1     117.0   \n",
      "...                                ...           ...       ...   \n",
      "10741 2023-02-24 07:43:55.409324+00:00            P1       0.0   \n",
      "10742 2023-02-24 07:46:35.195110+00:00            P1       7.0   \n",
      "10743 2023-02-24 07:49:15.757782+00:00            P1       1.0   \n",
      "10744 2023-02-24 07:51:55.687147+00:00            P1       0.0   \n",
      "10745 2023-02-24 07:54:35.530545+00:00            P1       0.0   \n",
      "\n",
      "                          timestamp_P2 value_type_P2  value_P2  \n",
      "0     2023-02-04 04:22:51.323125+00:00            P2      27.0  \n",
      "1     2023-02-04 04:25:32.355326+00:00            P2      27.0  \n",
      "2     2023-02-04 04:28:12.715838+00:00            P2      23.0  \n",
      "3     2023-02-04 04:30:52.437520+00:00            P2      25.0  \n",
      "4     2023-02-04 04:33:32.678818+00:00            P2      31.0  \n",
      "...                                ...           ...       ...  \n",
      "10741 2023-02-24 07:43:55.409324+00:00            P2       0.0  \n",
      "10742 2023-02-24 07:46:35.195110+00:00            P2       7.0  \n",
      "10743 2023-02-24 07:49:15.757782+00:00            P2       1.0  \n",
      "10744 2023-02-24 07:51:55.687147+00:00            P2       0.0  \n",
      "10745 2023-02-24 07:54:35.530545+00:00            P2       0.0  \n",
      "\n",
      "[10746 rows x 13 columns]\n"
     ]
    },
    {
     "data": {
      "text/html": [
       "<div>\n",
       "<style scoped>\n",
       "    .dataframe tbody tr th:only-of-type {\n",
       "        vertical-align: middle;\n",
       "    }\n",
       "\n",
       "    .dataframe tbody tr th {\n",
       "        vertical-align: top;\n",
       "    }\n",
       "\n",
       "    .dataframe thead th {\n",
       "        text-align: right;\n",
       "    }\n",
       "</style>\n",
       "<table border=\"1\" class=\"dataframe\">\n",
       "  <thead>\n",
       "    <tr style=\"text-align: right;\">\n",
       "      <th></th>\n",
       "      <th>timestamp_temperature</th>\n",
       "      <th>value_type_temperature</th>\n",
       "      <th>value_temperature</th>\n",
       "      <th>timestamp_new</th>\n",
       "      <th>timestamp_humidity</th>\n",
       "      <th>value_type_humidity</th>\n",
       "      <th>value_humidity</th>\n",
       "      <th>timestamp_P1</th>\n",
       "      <th>value_type_P1</th>\n",
       "      <th>value_P1</th>\n",
       "      <th>timestamp_P2</th>\n",
       "      <th>value_type_P2</th>\n",
       "      <th>value_P2</th>\n",
       "    </tr>\n",
       "  </thead>\n",
       "  <tbody>\n",
       "    <tr>\n",
       "      <th>0</th>\n",
       "      <td>2023-02-04 04:22:51.323124+00:00</td>\n",
       "      <td>temperature</td>\n",
       "      <td>12</td>\n",
       "      <td>2023-02-04 04:22:51+00:00</td>\n",
       "      <td>2023-02-04 04:22:51.323124+00:00</td>\n",
       "      <td>humidity</td>\n",
       "      <td>100</td>\n",
       "      <td>2023-02-04 04:22:51.323125+00:00</td>\n",
       "      <td>P1</td>\n",
       "      <td>59.0</td>\n",
       "      <td>2023-02-04 04:22:51.323125+00:00</td>\n",
       "      <td>P2</td>\n",
       "      <td>27.0</td>\n",
       "    </tr>\n",
       "    <tr>\n",
       "      <th>1</th>\n",
       "      <td>2023-02-04 04:25:32.354784+00:00</td>\n",
       "      <td>temperature</td>\n",
       "      <td>11</td>\n",
       "      <td>2023-02-04 04:25:32+00:00</td>\n",
       "      <td>2023-02-04 04:25:32.354784+00:00</td>\n",
       "      <td>humidity</td>\n",
       "      <td>100</td>\n",
       "      <td>2023-02-04 04:25:32.355326+00:00</td>\n",
       "      <td>P1</td>\n",
       "      <td>51.0</td>\n",
       "      <td>2023-02-04 04:25:32.355326+00:00</td>\n",
       "      <td>P2</td>\n",
       "      <td>27.0</td>\n",
       "    </tr>\n",
       "    <tr>\n",
       "      <th>2</th>\n",
       "      <td>2023-02-04 04:28:12.716734+00:00</td>\n",
       "      <td>temperature</td>\n",
       "      <td>12</td>\n",
       "      <td>2023-02-04 04:28:13+00:00</td>\n",
       "      <td>2023-02-04 04:28:12.716734+00:00</td>\n",
       "      <td>humidity</td>\n",
       "      <td>100</td>\n",
       "      <td>2023-02-04 04:28:12.715838+00:00</td>\n",
       "      <td>P1</td>\n",
       "      <td>56.0</td>\n",
       "      <td>2023-02-04 04:28:12.715838+00:00</td>\n",
       "      <td>P2</td>\n",
       "      <td>23.0</td>\n",
       "    </tr>\n",
       "    <tr>\n",
       "      <th>3</th>\n",
       "      <td>2023-02-04 04:30:52.437513+00:00</td>\n",
       "      <td>temperature</td>\n",
       "      <td>12</td>\n",
       "      <td>2023-02-04 04:30:52+00:00</td>\n",
       "      <td>2023-02-04 04:30:52.437513+00:00</td>\n",
       "      <td>humidity</td>\n",
       "      <td>100</td>\n",
       "      <td>2023-02-04 04:30:52.437520+00:00</td>\n",
       "      <td>P1</td>\n",
       "      <td>56.0</td>\n",
       "      <td>2023-02-04 04:30:52.437520+00:00</td>\n",
       "      <td>P2</td>\n",
       "      <td>25.0</td>\n",
       "    </tr>\n",
       "    <tr>\n",
       "      <th>4</th>\n",
       "      <td>2023-02-04 04:33:32.677578+00:00</td>\n",
       "      <td>temperature</td>\n",
       "      <td>12</td>\n",
       "      <td>2023-02-04 04:33:33+00:00</td>\n",
       "      <td>2023-02-04 04:33:32.677578+00:00</td>\n",
       "      <td>humidity</td>\n",
       "      <td>100</td>\n",
       "      <td>2023-02-04 04:33:32.678818+00:00</td>\n",
       "      <td>P1</td>\n",
       "      <td>117.0</td>\n",
       "      <td>2023-02-04 04:33:32.678818+00:00</td>\n",
       "      <td>P2</td>\n",
       "      <td>31.0</td>\n",
       "    </tr>\n",
       "    <tr>\n",
       "      <th>...</th>\n",
       "      <td>...</td>\n",
       "      <td>...</td>\n",
       "      <td>...</td>\n",
       "      <td>...</td>\n",
       "      <td>...</td>\n",
       "      <td>...</td>\n",
       "      <td>...</td>\n",
       "      <td>...</td>\n",
       "      <td>...</td>\n",
       "      <td>...</td>\n",
       "      <td>...</td>\n",
       "      <td>...</td>\n",
       "      <td>...</td>\n",
       "    </tr>\n",
       "    <tr>\n",
       "      <th>10741</th>\n",
       "      <td>2023-02-24 07:43:55.358126+00:00</td>\n",
       "      <td>temperature</td>\n",
       "      <td>26</td>\n",
       "      <td>2023-02-24 07:43:55+00:00</td>\n",
       "      <td>2023-02-24 07:43:55.358126+00:00</td>\n",
       "      <td>humidity</td>\n",
       "      <td>60</td>\n",
       "      <td>2023-02-24 07:43:55.409324+00:00</td>\n",
       "      <td>P1</td>\n",
       "      <td>0.0</td>\n",
       "      <td>2023-02-24 07:43:55.409324+00:00</td>\n",
       "      <td>P2</td>\n",
       "      <td>0.0</td>\n",
       "    </tr>\n",
       "    <tr>\n",
       "      <th>10742</th>\n",
       "      <td>2023-02-24 07:46:35.195100+00:00</td>\n",
       "      <td>temperature</td>\n",
       "      <td>26</td>\n",
       "      <td>2023-02-24 07:46:35+00:00</td>\n",
       "      <td>2023-02-24 07:46:35.195100+00:00</td>\n",
       "      <td>humidity</td>\n",
       "      <td>60</td>\n",
       "      <td>2023-02-24 07:46:35.195110+00:00</td>\n",
       "      <td>P1</td>\n",
       "      <td>7.0</td>\n",
       "      <td>2023-02-24 07:46:35.195110+00:00</td>\n",
       "      <td>P2</td>\n",
       "      <td>7.0</td>\n",
       "    </tr>\n",
       "    <tr>\n",
       "      <th>10743</th>\n",
       "      <td>2023-02-24 07:49:15.756956+00:00</td>\n",
       "      <td>temperature</td>\n",
       "      <td>26</td>\n",
       "      <td>2023-02-24 07:49:16+00:00</td>\n",
       "      <td>2023-02-24 07:49:15.756956+00:00</td>\n",
       "      <td>humidity</td>\n",
       "      <td>59</td>\n",
       "      <td>2023-02-24 07:49:15.757782+00:00</td>\n",
       "      <td>P1</td>\n",
       "      <td>1.0</td>\n",
       "      <td>2023-02-24 07:49:15.757782+00:00</td>\n",
       "      <td>P2</td>\n",
       "      <td>1.0</td>\n",
       "    </tr>\n",
       "    <tr>\n",
       "      <th>10744</th>\n",
       "      <td>2023-02-24 07:51:55.687329+00:00</td>\n",
       "      <td>temperature</td>\n",
       "      <td>27</td>\n",
       "      <td>2023-02-24 07:51:56+00:00</td>\n",
       "      <td>2023-02-24 07:51:55.687329+00:00</td>\n",
       "      <td>humidity</td>\n",
       "      <td>59</td>\n",
       "      <td>2023-02-24 07:51:55.687147+00:00</td>\n",
       "      <td>P1</td>\n",
       "      <td>0.0</td>\n",
       "      <td>2023-02-24 07:51:55.687147+00:00</td>\n",
       "      <td>P2</td>\n",
       "      <td>0.0</td>\n",
       "    </tr>\n",
       "    <tr>\n",
       "      <th>10745</th>\n",
       "      <td>2023-02-24 07:54:35.530536+00:00</td>\n",
       "      <td>temperature</td>\n",
       "      <td>27</td>\n",
       "      <td>2023-02-24 07:54:36+00:00</td>\n",
       "      <td>2023-02-24 07:54:35.530536+00:00</td>\n",
       "      <td>humidity</td>\n",
       "      <td>59</td>\n",
       "      <td>2023-02-24 07:54:35.530545+00:00</td>\n",
       "      <td>P1</td>\n",
       "      <td>0.0</td>\n",
       "      <td>2023-02-24 07:54:35.530545+00:00</td>\n",
       "      <td>P2</td>\n",
       "      <td>0.0</td>\n",
       "    </tr>\n",
       "  </tbody>\n",
       "</table>\n",
       "<p>10746 rows × 13 columns</p>\n",
       "</div>"
      ],
      "text/plain": [
       "                 timestamp_temperature value_type_temperature  \\\n",
       "0     2023-02-04 04:22:51.323124+00:00            temperature   \n",
       "1     2023-02-04 04:25:32.354784+00:00            temperature   \n",
       "2     2023-02-04 04:28:12.716734+00:00            temperature   \n",
       "3     2023-02-04 04:30:52.437513+00:00            temperature   \n",
       "4     2023-02-04 04:33:32.677578+00:00            temperature   \n",
       "...                                ...                    ...   \n",
       "10741 2023-02-24 07:43:55.358126+00:00            temperature   \n",
       "10742 2023-02-24 07:46:35.195100+00:00            temperature   \n",
       "10743 2023-02-24 07:49:15.756956+00:00            temperature   \n",
       "10744 2023-02-24 07:51:55.687329+00:00            temperature   \n",
       "10745 2023-02-24 07:54:35.530536+00:00            temperature   \n",
       "\n",
       "       value_temperature             timestamp_new  \\\n",
       "0                     12 2023-02-04 04:22:51+00:00   \n",
       "1                     11 2023-02-04 04:25:32+00:00   \n",
       "2                     12 2023-02-04 04:28:13+00:00   \n",
       "3                     12 2023-02-04 04:30:52+00:00   \n",
       "4                     12 2023-02-04 04:33:33+00:00   \n",
       "...                  ...                       ...   \n",
       "10741                 26 2023-02-24 07:43:55+00:00   \n",
       "10742                 26 2023-02-24 07:46:35+00:00   \n",
       "10743                 26 2023-02-24 07:49:16+00:00   \n",
       "10744                 27 2023-02-24 07:51:56+00:00   \n",
       "10745                 27 2023-02-24 07:54:36+00:00   \n",
       "\n",
       "                    timestamp_humidity value_type_humidity  value_humidity  \\\n",
       "0     2023-02-04 04:22:51.323124+00:00            humidity             100   \n",
       "1     2023-02-04 04:25:32.354784+00:00            humidity             100   \n",
       "2     2023-02-04 04:28:12.716734+00:00            humidity             100   \n",
       "3     2023-02-04 04:30:52.437513+00:00            humidity             100   \n",
       "4     2023-02-04 04:33:32.677578+00:00            humidity             100   \n",
       "...                                ...                 ...             ...   \n",
       "10741 2023-02-24 07:43:55.358126+00:00            humidity              60   \n",
       "10742 2023-02-24 07:46:35.195100+00:00            humidity              60   \n",
       "10743 2023-02-24 07:49:15.756956+00:00            humidity              59   \n",
       "10744 2023-02-24 07:51:55.687329+00:00            humidity              59   \n",
       "10745 2023-02-24 07:54:35.530536+00:00            humidity              59   \n",
       "\n",
       "                          timestamp_P1 value_type_P1  value_P1  \\\n",
       "0     2023-02-04 04:22:51.323125+00:00            P1      59.0   \n",
       "1     2023-02-04 04:25:32.355326+00:00            P1      51.0   \n",
       "2     2023-02-04 04:28:12.715838+00:00            P1      56.0   \n",
       "3     2023-02-04 04:30:52.437520+00:00            P1      56.0   \n",
       "4     2023-02-04 04:33:32.678818+00:00            P1     117.0   \n",
       "...                                ...           ...       ...   \n",
       "10741 2023-02-24 07:43:55.409324+00:00            P1       0.0   \n",
       "10742 2023-02-24 07:46:35.195110+00:00            P1       7.0   \n",
       "10743 2023-02-24 07:49:15.757782+00:00            P1       1.0   \n",
       "10744 2023-02-24 07:51:55.687147+00:00            P1       0.0   \n",
       "10745 2023-02-24 07:54:35.530545+00:00            P1       0.0   \n",
       "\n",
       "                          timestamp_P2 value_type_P2  value_P2  \n",
       "0     2023-02-04 04:22:51.323125+00:00            P2      27.0  \n",
       "1     2023-02-04 04:25:32.355326+00:00            P2      27.0  \n",
       "2     2023-02-04 04:28:12.715838+00:00            P2      23.0  \n",
       "3     2023-02-04 04:30:52.437520+00:00            P2      25.0  \n",
       "4     2023-02-04 04:33:32.678818+00:00            P2      31.0  \n",
       "...                                ...           ...       ...  \n",
       "10741 2023-02-24 07:43:55.409324+00:00            P2       0.0  \n",
       "10742 2023-02-24 07:46:35.195110+00:00            P2       7.0  \n",
       "10743 2023-02-24 07:49:15.757782+00:00            P2       1.0  \n",
       "10744 2023-02-24 07:51:55.687147+00:00            P2       0.0  \n",
       "10745 2023-02-24 07:54:35.530545+00:00            P2       0.0  \n",
       "\n",
       "[10746 rows x 13 columns]"
      ]
     },
     "execution_count": 40,
     "metadata": {},
     "output_type": "execute_result"
    }
   ],
   "source": [
    "# BEGIN SOLUTION\n",
    "df_merged = df_temperature.merge(df_humidity,how='left', on='timestamp_new',suffixes=('_temperature', '_humidity'))\n",
    "df_merged = df_merged.merge(df_P1,how='left', on='timestamp_new',suffixes=('_prev', '_P1'))\n",
    "df_merged = df_merged.merge(df_P2,how='left', on='timestamp_new',suffixes=('_P1', '_P2'))\n",
    "# END SOLUTION\n",
    "print(df_merged)\n",
    "\n",
    "from pathlib import Path  \n",
    "filepath = Path('newdata.csv')  \n",
    "filepath.parent.mkdir(parents=True, exist_ok=True)  \n",
    "df_merged.to_csv(filepath)  \n",
    "df_merged"
   ]
  },
  {
   "cell_type": "raw",
   "metadata": {},
   "source": [
    "# END SOLUTION"
   ]
  },
  {
   "cell_type": "raw",
   "metadata": {},
   "source": [
    "# END QUESTION"
   ]
  },
  {
   "cell_type": "raw",
   "metadata": {},
   "source": [
    "# BEGIN QUESTION\n",
    "name: q_E5"
   ]
  },
  {
   "cell_type": "markdown",
   "metadata": {
    "id": "PNLVvAvbJMn6"
   },
   "source": [
    "**Question E5:** Open the new data file and select only 'timestamp_new','value_temperature','value_humidity','value_P1' and 'value_P2' collunms"
   ]
  },
  {
   "cell_type": "raw",
   "metadata": {},
   "source": [
    "# BEGIN SOLUTION"
   ]
  },
  {
   "cell_type": "code",
   "execution_count": 41,
   "metadata": {
    "id": "4fyxaLq2JMn6"
   },
   "outputs": [
    {
     "data": {
      "text/html": [
       "<div>\n",
       "<style scoped>\n",
       "    .dataframe tbody tr th:only-of-type {\n",
       "        vertical-align: middle;\n",
       "    }\n",
       "\n",
       "    .dataframe tbody tr th {\n",
       "        vertical-align: top;\n",
       "    }\n",
       "\n",
       "    .dataframe thead th {\n",
       "        text-align: right;\n",
       "    }\n",
       "</style>\n",
       "<table border=\"1\" class=\"dataframe\">\n",
       "  <thead>\n",
       "    <tr style=\"text-align: right;\">\n",
       "      <th></th>\n",
       "      <th>value_temperature</th>\n",
       "      <th>timestamp_new</th>\n",
       "      <th>value_humidity</th>\n",
       "      <th>value_P1</th>\n",
       "      <th>value_P2</th>\n",
       "    </tr>\n",
       "  </thead>\n",
       "  <tbody>\n",
       "    <tr>\n",
       "      <th>0</th>\n",
       "      <td>12</td>\n",
       "      <td>2023-02-04 04:22:51+00:00</td>\n",
       "      <td>100</td>\n",
       "      <td>59.0</td>\n",
       "      <td>27.0</td>\n",
       "    </tr>\n",
       "    <tr>\n",
       "      <th>1</th>\n",
       "      <td>11</td>\n",
       "      <td>2023-02-04 04:25:32+00:00</td>\n",
       "      <td>100</td>\n",
       "      <td>51.0</td>\n",
       "      <td>27.0</td>\n",
       "    </tr>\n",
       "    <tr>\n",
       "      <th>2</th>\n",
       "      <td>12</td>\n",
       "      <td>2023-02-04 04:28:13+00:00</td>\n",
       "      <td>100</td>\n",
       "      <td>56.0</td>\n",
       "      <td>23.0</td>\n",
       "    </tr>\n",
       "    <tr>\n",
       "      <th>3</th>\n",
       "      <td>12</td>\n",
       "      <td>2023-02-04 04:30:52+00:00</td>\n",
       "      <td>100</td>\n",
       "      <td>56.0</td>\n",
       "      <td>25.0</td>\n",
       "    </tr>\n",
       "    <tr>\n",
       "      <th>4</th>\n",
       "      <td>12</td>\n",
       "      <td>2023-02-04 04:33:33+00:00</td>\n",
       "      <td>100</td>\n",
       "      <td>117.0</td>\n",
       "      <td>31.0</td>\n",
       "    </tr>\n",
       "    <tr>\n",
       "      <th>...</th>\n",
       "      <td>...</td>\n",
       "      <td>...</td>\n",
       "      <td>...</td>\n",
       "      <td>...</td>\n",
       "      <td>...</td>\n",
       "    </tr>\n",
       "    <tr>\n",
       "      <th>10741</th>\n",
       "      <td>26</td>\n",
       "      <td>2023-02-24 07:43:55+00:00</td>\n",
       "      <td>60</td>\n",
       "      <td>0.0</td>\n",
       "      <td>0.0</td>\n",
       "    </tr>\n",
       "    <tr>\n",
       "      <th>10742</th>\n",
       "      <td>26</td>\n",
       "      <td>2023-02-24 07:46:35+00:00</td>\n",
       "      <td>60</td>\n",
       "      <td>7.0</td>\n",
       "      <td>7.0</td>\n",
       "    </tr>\n",
       "    <tr>\n",
       "      <th>10743</th>\n",
       "      <td>26</td>\n",
       "      <td>2023-02-24 07:49:16+00:00</td>\n",
       "      <td>59</td>\n",
       "      <td>1.0</td>\n",
       "      <td>1.0</td>\n",
       "    </tr>\n",
       "    <tr>\n",
       "      <th>10744</th>\n",
       "      <td>27</td>\n",
       "      <td>2023-02-24 07:51:56+00:00</td>\n",
       "      <td>59</td>\n",
       "      <td>0.0</td>\n",
       "      <td>0.0</td>\n",
       "    </tr>\n",
       "    <tr>\n",
       "      <th>10745</th>\n",
       "      <td>27</td>\n",
       "      <td>2023-02-24 07:54:36+00:00</td>\n",
       "      <td>59</td>\n",
       "      <td>0.0</td>\n",
       "      <td>0.0</td>\n",
       "    </tr>\n",
       "  </tbody>\n",
       "</table>\n",
       "<p>10746 rows × 5 columns</p>\n",
       "</div>"
      ],
      "text/plain": [
       "       value_temperature              timestamp_new  value_humidity  value_P1  \\\n",
       "0                     12  2023-02-04 04:22:51+00:00             100      59.0   \n",
       "1                     11  2023-02-04 04:25:32+00:00             100      51.0   \n",
       "2                     12  2023-02-04 04:28:13+00:00             100      56.0   \n",
       "3                     12  2023-02-04 04:30:52+00:00             100      56.0   \n",
       "4                     12  2023-02-04 04:33:33+00:00             100     117.0   \n",
       "...                  ...                        ...             ...       ...   \n",
       "10741                 26  2023-02-24 07:43:55+00:00              60       0.0   \n",
       "10742                 26  2023-02-24 07:46:35+00:00              60       7.0   \n",
       "10743                 26  2023-02-24 07:49:16+00:00              59       1.0   \n",
       "10744                 27  2023-02-24 07:51:56+00:00              59       0.0   \n",
       "10745                 27  2023-02-24 07:54:36+00:00              59       0.0   \n",
       "\n",
       "       value_P2  \n",
       "0          27.0  \n",
       "1          27.0  \n",
       "2          23.0  \n",
       "3          25.0  \n",
       "4          31.0  \n",
       "...         ...  \n",
       "10741       0.0  \n",
       "10742       7.0  \n",
       "10743       1.0  \n",
       "10744       0.0  \n",
       "10745       0.0  \n",
       "\n",
       "[10746 rows x 5 columns]"
      ]
     },
     "execution_count": 41,
     "metadata": {},
     "output_type": "execute_result"
    }
   ],
   "source": [
    "# BEGIN SOLUTION\n",
    "new_df = pd.read_csv(r'newdata.csv',usecols=['timestamp_new','value_temperature','value_humidity','value_P1','value_P2'])\n",
    "# END SOLUTION\n",
    "new_df "
   ]
  },
  {
   "cell_type": "raw",
   "metadata": {},
   "source": [
    "# END SOLUTION"
   ]
  },
  {
   "cell_type": "raw",
   "metadata": {},
   "source": [
    "# END QUESTION"
   ]
  },
  {
   "cell_type": "raw",
   "metadata": {},
   "source": [
    "# BEGIN QUESTION\n",
    "name: q_E6"
   ]
  },
  {
   "cell_type": "markdown",
   "metadata": {
    "id": "fh5va_ODJMn6"
   },
   "source": [
    "**Question E6:** Replace the missing values in collumns 'value_P1' and 'value_P2' with the mean of the same collumns"
   ]
  },
  {
   "cell_type": "raw",
   "metadata": {},
   "source": [
    "# BEGIN SOLUTION"
   ]
  },
  {
   "cell_type": "code",
   "execution_count": 42,
   "metadata": {
    "id": "RAm29MW0JMn7"
   },
   "outputs": [
    {
     "data": {
      "text/html": [
       "<div>\n",
       "<style scoped>\n",
       "    .dataframe tbody tr th:only-of-type {\n",
       "        vertical-align: middle;\n",
       "    }\n",
       "\n",
       "    .dataframe tbody tr th {\n",
       "        vertical-align: top;\n",
       "    }\n",
       "\n",
       "    .dataframe thead th {\n",
       "        text-align: right;\n",
       "    }\n",
       "</style>\n",
       "<table border=\"1\" class=\"dataframe\">\n",
       "  <thead>\n",
       "    <tr style=\"text-align: right;\">\n",
       "      <th></th>\n",
       "      <th>value_temperature</th>\n",
       "      <th>timestamp_new</th>\n",
       "      <th>value_humidity</th>\n",
       "      <th>value_P1</th>\n",
       "      <th>value_P2</th>\n",
       "    </tr>\n",
       "  </thead>\n",
       "  <tbody>\n",
       "    <tr>\n",
       "      <th>7</th>\n",
       "      <td>13</td>\n",
       "      <td>2023-02-04 04:41:33+00:00</td>\n",
       "      <td>100</td>\n",
       "      <td>NaN</td>\n",
       "      <td>NaN</td>\n",
       "    </tr>\n",
       "    <tr>\n",
       "      <th>90</th>\n",
       "      <td>29</td>\n",
       "      <td>2023-02-04 08:23:06+00:00</td>\n",
       "      <td>43</td>\n",
       "      <td>NaN</td>\n",
       "      <td>NaN</td>\n",
       "    </tr>\n",
       "    <tr>\n",
       "      <th>102</th>\n",
       "      <td>29</td>\n",
       "      <td>2023-02-04 08:55:07+00:00</td>\n",
       "      <td>37</td>\n",
       "      <td>NaN</td>\n",
       "      <td>NaN</td>\n",
       "    </tr>\n",
       "    <tr>\n",
       "      <th>113</th>\n",
       "      <td>30</td>\n",
       "      <td>2023-02-04 09:24:30+00:00</td>\n",
       "      <td>38</td>\n",
       "      <td>NaN</td>\n",
       "      <td>NaN</td>\n",
       "    </tr>\n",
       "    <tr>\n",
       "      <th>119</th>\n",
       "      <td>31</td>\n",
       "      <td>2023-02-04 09:40:35+00:00</td>\n",
       "      <td>36</td>\n",
       "      <td>NaN</td>\n",
       "      <td>NaN</td>\n",
       "    </tr>\n",
       "    <tr>\n",
       "      <th>...</th>\n",
       "      <td>...</td>\n",
       "      <td>...</td>\n",
       "      <td>...</td>\n",
       "      <td>...</td>\n",
       "      <td>...</td>\n",
       "    </tr>\n",
       "    <tr>\n",
       "      <th>10671</th>\n",
       "      <td>14</td>\n",
       "      <td>2023-02-24 04:37:08+00:00</td>\n",
       "      <td>100</td>\n",
       "      <td>NaN</td>\n",
       "      <td>NaN</td>\n",
       "    </tr>\n",
       "    <tr>\n",
       "      <th>10685</th>\n",
       "      <td>17</td>\n",
       "      <td>2023-02-24 05:14:28+00:00</td>\n",
       "      <td>97</td>\n",
       "      <td>NaN</td>\n",
       "      <td>NaN</td>\n",
       "    </tr>\n",
       "    <tr>\n",
       "      <th>10714</th>\n",
       "      <td>21</td>\n",
       "      <td>2023-02-24 06:31:52+00:00</td>\n",
       "      <td>82</td>\n",
       "      <td>NaN</td>\n",
       "      <td>NaN</td>\n",
       "    </tr>\n",
       "    <tr>\n",
       "      <th>10721</th>\n",
       "      <td>22</td>\n",
       "      <td>2023-02-24 06:50:33+00:00</td>\n",
       "      <td>73</td>\n",
       "      <td>NaN</td>\n",
       "      <td>NaN</td>\n",
       "    </tr>\n",
       "    <tr>\n",
       "      <th>10727</th>\n",
       "      <td>23</td>\n",
       "      <td>2023-02-24 07:06:35+00:00</td>\n",
       "      <td>71</td>\n",
       "      <td>NaN</td>\n",
       "      <td>NaN</td>\n",
       "    </tr>\n",
       "  </tbody>\n",
       "</table>\n",
       "<p>689 rows × 5 columns</p>\n",
       "</div>"
      ],
      "text/plain": [
       "       value_temperature              timestamp_new  value_humidity  value_P1  \\\n",
       "7                     13  2023-02-04 04:41:33+00:00             100       NaN   \n",
       "90                    29  2023-02-04 08:23:06+00:00              43       NaN   \n",
       "102                   29  2023-02-04 08:55:07+00:00              37       NaN   \n",
       "113                   30  2023-02-04 09:24:30+00:00              38       NaN   \n",
       "119                   31  2023-02-04 09:40:35+00:00              36       NaN   \n",
       "...                  ...                        ...             ...       ...   \n",
       "10671                 14  2023-02-24 04:37:08+00:00             100       NaN   \n",
       "10685                 17  2023-02-24 05:14:28+00:00              97       NaN   \n",
       "10714                 21  2023-02-24 06:31:52+00:00              82       NaN   \n",
       "10721                 22  2023-02-24 06:50:33+00:00              73       NaN   \n",
       "10727                 23  2023-02-24 07:06:35+00:00              71       NaN   \n",
       "\n",
       "       value_P2  \n",
       "7           NaN  \n",
       "90          NaN  \n",
       "102         NaN  \n",
       "113         NaN  \n",
       "119         NaN  \n",
       "...         ...  \n",
       "10671       NaN  \n",
       "10685       NaN  \n",
       "10714       NaN  \n",
       "10721       NaN  \n",
       "10727       NaN  \n",
       "\n",
       "[689 rows x 5 columns]"
      ]
     },
     "execution_count": 42,
     "metadata": {},
     "output_type": "execute_result"
    }
   ],
   "source": [
    "#Check for missing values \n",
    "missing_values = pd.isnull(new_df['value_P1']) # SOLUTION\n",
    "\n",
    "# displaying data only with NaN\n",
    "new_df[missing_values] # SOLUTION"
   ]
  },
  {
   "cell_type": "code",
   "execution_count": 43,
   "metadata": {
    "id": "JJ2zFruYJMn7"
   },
   "outputs": [
    {
     "data": {
      "text/html": [
       "<div>\n",
       "<style scoped>\n",
       "    .dataframe tbody tr th:only-of-type {\n",
       "        vertical-align: middle;\n",
       "    }\n",
       "\n",
       "    .dataframe tbody tr th {\n",
       "        vertical-align: top;\n",
       "    }\n",
       "\n",
       "    .dataframe thead th {\n",
       "        text-align: right;\n",
       "    }\n",
       "</style>\n",
       "<table border=\"1\" class=\"dataframe\">\n",
       "  <thead>\n",
       "    <tr style=\"text-align: right;\">\n",
       "      <th></th>\n",
       "      <th>value_temperature</th>\n",
       "      <th>timestamp_new</th>\n",
       "      <th>value_humidity</th>\n",
       "      <th>value_P1</th>\n",
       "      <th>value_P2</th>\n",
       "    </tr>\n",
       "  </thead>\n",
       "  <tbody>\n",
       "    <tr>\n",
       "      <th>0</th>\n",
       "      <td>12</td>\n",
       "      <td>2023-02-04 04:22:51+00:00</td>\n",
       "      <td>100</td>\n",
       "      <td>59.0</td>\n",
       "      <td>27.0</td>\n",
       "    </tr>\n",
       "    <tr>\n",
       "      <th>1</th>\n",
       "      <td>11</td>\n",
       "      <td>2023-02-04 04:25:32+00:00</td>\n",
       "      <td>100</td>\n",
       "      <td>51.0</td>\n",
       "      <td>27.0</td>\n",
       "    </tr>\n",
       "    <tr>\n",
       "      <th>2</th>\n",
       "      <td>12</td>\n",
       "      <td>2023-02-04 04:28:13+00:00</td>\n",
       "      <td>100</td>\n",
       "      <td>56.0</td>\n",
       "      <td>23.0</td>\n",
       "    </tr>\n",
       "    <tr>\n",
       "      <th>3</th>\n",
       "      <td>12</td>\n",
       "      <td>2023-02-04 04:30:52+00:00</td>\n",
       "      <td>100</td>\n",
       "      <td>56.0</td>\n",
       "      <td>25.0</td>\n",
       "    </tr>\n",
       "    <tr>\n",
       "      <th>4</th>\n",
       "      <td>12</td>\n",
       "      <td>2023-02-04 04:33:33+00:00</td>\n",
       "      <td>100</td>\n",
       "      <td>117.0</td>\n",
       "      <td>31.0</td>\n",
       "    </tr>\n",
       "    <tr>\n",
       "      <th>...</th>\n",
       "      <td>...</td>\n",
       "      <td>...</td>\n",
       "      <td>...</td>\n",
       "      <td>...</td>\n",
       "      <td>...</td>\n",
       "    </tr>\n",
       "    <tr>\n",
       "      <th>10741</th>\n",
       "      <td>26</td>\n",
       "      <td>2023-02-24 07:43:55+00:00</td>\n",
       "      <td>60</td>\n",
       "      <td>0.0</td>\n",
       "      <td>0.0</td>\n",
       "    </tr>\n",
       "    <tr>\n",
       "      <th>10742</th>\n",
       "      <td>26</td>\n",
       "      <td>2023-02-24 07:46:35+00:00</td>\n",
       "      <td>60</td>\n",
       "      <td>7.0</td>\n",
       "      <td>7.0</td>\n",
       "    </tr>\n",
       "    <tr>\n",
       "      <th>10743</th>\n",
       "      <td>26</td>\n",
       "      <td>2023-02-24 07:49:16+00:00</td>\n",
       "      <td>59</td>\n",
       "      <td>1.0</td>\n",
       "      <td>1.0</td>\n",
       "    </tr>\n",
       "    <tr>\n",
       "      <th>10744</th>\n",
       "      <td>27</td>\n",
       "      <td>2023-02-24 07:51:56+00:00</td>\n",
       "      <td>59</td>\n",
       "      <td>0.0</td>\n",
       "      <td>0.0</td>\n",
       "    </tr>\n",
       "    <tr>\n",
       "      <th>10745</th>\n",
       "      <td>27</td>\n",
       "      <td>2023-02-24 07:54:36+00:00</td>\n",
       "      <td>59</td>\n",
       "      <td>0.0</td>\n",
       "      <td>0.0</td>\n",
       "    </tr>\n",
       "  </tbody>\n",
       "</table>\n",
       "<p>10746 rows × 5 columns</p>\n",
       "</div>"
      ],
      "text/plain": [
       "       value_temperature              timestamp_new  value_humidity  value_P1  \\\n",
       "0                     12  2023-02-04 04:22:51+00:00             100      59.0   \n",
       "1                     11  2023-02-04 04:25:32+00:00             100      51.0   \n",
       "2                     12  2023-02-04 04:28:13+00:00             100      56.0   \n",
       "3                     12  2023-02-04 04:30:52+00:00             100      56.0   \n",
       "4                     12  2023-02-04 04:33:33+00:00             100     117.0   \n",
       "...                  ...                        ...             ...       ...   \n",
       "10741                 26  2023-02-24 07:43:55+00:00              60       0.0   \n",
       "10742                 26  2023-02-24 07:46:35+00:00              60       7.0   \n",
       "10743                 26  2023-02-24 07:49:16+00:00              59       1.0   \n",
       "10744                 27  2023-02-24 07:51:56+00:00              59       0.0   \n",
       "10745                 27  2023-02-24 07:54:36+00:00              59       0.0   \n",
       "\n",
       "       value_P2  \n",
       "0          27.0  \n",
       "1          27.0  \n",
       "2          23.0  \n",
       "3          25.0  \n",
       "4          31.0  \n",
       "...         ...  \n",
       "10741       0.0  \n",
       "10742       7.0  \n",
       "10743       1.0  \n",
       "10744       0.0  \n",
       "10745       0.0  \n",
       "\n",
       "[10746 rows x 5 columns]"
      ]
     },
     "execution_count": 43,
     "metadata": {},
     "output_type": "execute_result"
    }
   ],
   "source": [
    "#print(\"The mean of P1\",new_df['value_P2'].mean())\n",
    "#print(\"The mean of P2\",new_df['value_P1'].mean())\n",
    "\n",
    "#replace missing values with the mean \n",
    "# BEGIN SOLUTION\n",
    "new_df['value_P1'].fillna(new_df['value_P1'].mean(), inplace=True) \n",
    "new_df['value_P2'].fillna(new_df['value_P2'].mean(), inplace=True) \n",
    "# BEGIN SOLUTION\n",
    "\n",
    "#Check for missing values after the replacement operation \n",
    "missing_values = pd.isnull(new_df['value_P2']) # SOLUTION\n",
    "\n",
    "# displaying data only with NaN (if any) after the replacement operation \n",
    "# BEGIN SOLUTION\n",
    "new_df[missing_values] \n",
    "# END SOLUTION\n",
    "new_df"
   ]
  },
  {
   "cell_type": "raw",
   "metadata": {},
   "source": [
    "# END SOLUTION"
   ]
  },
  {
   "cell_type": "raw",
   "metadata": {},
   "source": [
    "# END QUESTION"
   ]
  },
  {
   "cell_type": "raw",
   "metadata": {},
   "source": [
    "# BEGIN QUESTION\n",
    "name: q_E7"
   ]
  },
  {
   "cell_type": "markdown",
   "metadata": {
    "id": "syjHmz-AJMn7"
   },
   "source": [
    "**Question E7:** Compute the correlations between temperature and humidity; P1 and P2 "
   ]
  },
  {
   "cell_type": "raw",
   "metadata": {},
   "source": [
    "# BEGIN SOLUTION"
   ]
  },
  {
   "cell_type": "code",
   "execution_count": 44,
   "metadata": {
    "id": "agvSVKsEJMn7"
   },
   "outputs": [
    {
     "name": "stdout",
     "output_type": "stream",
     "text": [
      "Correlation between temparature and humidity -0.9028239849182673\n",
      "Correlation between P1 and P2 0.8737116522386157\n"
     ]
    }
   ],
   "source": [
    "#Correlation between temperature and humidity\n",
    "# BEGIN SOLUTION\n",
    "corr_temp_hum = new_df['value_temperature'].corr(new_df['value_humidity'])\n",
    "# END SOLUTION\n",
    "\n",
    "print (\"Correlation between temparature and humidity\",corr_temp_hum)\n",
    "\n",
    "#Correlation between P1 and P2\n",
    "# BEGIN SOLUTION\n",
    "corr_p1_p2 = new_df['value_P1'].corr(new_df['value_P2'])\n",
    "# END SOLUTION\n",
    "\n",
    "print (\"Correlation between P1 and P2\",corr_p1_p2)"
   ]
  },
  {
   "cell_type": "raw",
   "metadata": {},
   "source": [
    "# END SOLUTION"
   ]
  },
  {
   "cell_type": "raw",
   "metadata": {},
   "source": [
    "# END QUESTION"
   ]
  },
  {
   "cell_type": "raw",
   "metadata": {},
   "source": [
    "# BEGIN QUESTION\n",
    "name: q_E8"
   ]
  },
  {
   "cell_type": "markdown",
   "metadata": {
    "id": "bIy00VyKJMn7"
   },
   "source": [
    "**Question E8:** Create a new dataframe comprising of the average values of the variables by day"
   ]
  },
  {
   "cell_type": "raw",
   "metadata": {},
   "source": [
    "# BEGIN SOLUTION"
   ]
  },
  {
   "cell_type": "code",
   "execution_count": 45,
   "metadata": {
    "id": "qb_G74GPJMn7"
   },
   "outputs": [
    {
     "data": {
      "text/html": [
       "<div>\n",
       "<style scoped>\n",
       "    .dataframe tbody tr th:only-of-type {\n",
       "        vertical-align: middle;\n",
       "    }\n",
       "\n",
       "    .dataframe tbody tr th {\n",
       "        vertical-align: top;\n",
       "    }\n",
       "\n",
       "    .dataframe thead th {\n",
       "        text-align: right;\n",
       "    }\n",
       "</style>\n",
       "<table border=\"1\" class=\"dataframe\">\n",
       "  <thead>\n",
       "    <tr style=\"text-align: right;\">\n",
       "      <th></th>\n",
       "      <th>value_temperature</th>\n",
       "      <th>value_humidity</th>\n",
       "      <th>value_P1</th>\n",
       "      <th>value_P2</th>\n",
       "    </tr>\n",
       "    <tr>\n",
       "      <th>timestamp_new</th>\n",
       "      <th></th>\n",
       "      <th></th>\n",
       "      <th></th>\n",
       "      <th></th>\n",
       "    </tr>\n",
       "  </thead>\n",
       "  <tbody>\n",
       "    <tr>\n",
       "      <th>2023-02-04 00:00:00+00:00</th>\n",
       "      <td>22.312783</td>\n",
       "      <td>62.269231</td>\n",
       "      <td>22.238116</td>\n",
       "      <td>7.992069</td>\n",
       "    </tr>\n",
       "    <tr>\n",
       "      <th>2023-02-05 00:00:00+00:00</th>\n",
       "      <td>22.171759</td>\n",
       "      <td>68.225926</td>\n",
       "      <td>28.581513</td>\n",
       "      <td>12.713282</td>\n",
       "    </tr>\n",
       "    <tr>\n",
       "      <th>2023-02-06 00:00:00+00:00</th>\n",
       "      <td>22.223562</td>\n",
       "      <td>61.916048</td>\n",
       "      <td>35.707610</td>\n",
       "      <td>13.767627</td>\n",
       "    </tr>\n",
       "    <tr>\n",
       "      <th>2023-02-07 00:00:00+00:00</th>\n",
       "      <td>22.747227</td>\n",
       "      <td>65.021719</td>\n",
       "      <td>33.478613</td>\n",
       "      <td>13.287828</td>\n",
       "    </tr>\n",
       "    <tr>\n",
       "      <th>2023-02-08 00:00:00+00:00</th>\n",
       "      <td>22.932282</td>\n",
       "      <td>62.166976</td>\n",
       "      <td>25.792692</td>\n",
       "      <td>9.879168</td>\n",
       "    </tr>\n",
       "    <tr>\n",
       "      <th>2023-02-09 00:00:00+00:00</th>\n",
       "      <td>18.371345</td>\n",
       "      <td>74.260234</td>\n",
       "      <td>1.719791</td>\n",
       "      <td>0.784689</td>\n",
       "    </tr>\n",
       "  </tbody>\n",
       "</table>\n",
       "</div>"
      ],
      "text/plain": [
       "                           value_temperature  value_humidity   value_P1  \\\n",
       "timestamp_new                                                             \n",
       "2023-02-04 00:00:00+00:00          22.312783       62.269231  22.238116   \n",
       "2023-02-05 00:00:00+00:00          22.171759       68.225926  28.581513   \n",
       "2023-02-06 00:00:00+00:00          22.223562       61.916048  35.707610   \n",
       "2023-02-07 00:00:00+00:00          22.747227       65.021719  33.478613   \n",
       "2023-02-08 00:00:00+00:00          22.932282       62.166976  25.792692   \n",
       "2023-02-09 00:00:00+00:00          18.371345       74.260234   1.719791   \n",
       "\n",
       "                            value_P2  \n",
       "timestamp_new                         \n",
       "2023-02-04 00:00:00+00:00   7.992069  \n",
       "2023-02-05 00:00:00+00:00  12.713282  \n",
       "2023-02-06 00:00:00+00:00  13.767627  \n",
       "2023-02-07 00:00:00+00:00  13.287828  \n",
       "2023-02-08 00:00:00+00:00   9.879168  \n",
       "2023-02-09 00:00:00+00:00   0.784689  "
      ]
     },
     "execution_count": 45,
     "metadata": {},
     "output_type": "execute_result"
    }
   ],
   "source": [
    "# BEGIN SOLUTION\n",
    "new_df['timestamp_new'] = pd.to_datetime(df['timestamp_new'], infer_datetime_format=True) \n",
    "new_df['timestamp_new'] = df['timestamp_new'].dt.floor('D')  \n",
    "# END SOLUTION\n",
    "means_feb = new_df.groupby('timestamp_new').mean() # SOLUTION\n",
    "means_feb"
   ]
  },
  {
   "cell_type": "raw",
   "metadata": {},
   "source": [
    "# END SOLUTION"
   ]
  },
  {
   "cell_type": "raw",
   "metadata": {},
   "source": [
    "# END QUESTION"
   ]
  },
  {
   "cell_type": "raw",
   "metadata": {},
   "source": [
    "# BEGIN QUESTION\n",
    "name: q_E9"
   ]
  },
  {
   "cell_type": "markdown",
   "metadata": {
    "id": "jXrFVTUPJMn7"
   },
   "source": [
    "**Question E9:** Download the dataset \"Nakuru Sensor Data for November 2021 from https://open.africa/dataset/sensorsafrica-airquality-archive-nakuru/resource/1f11351e-156b-4e4c-a063-b86a6ee07c4a\"\n",
    "\n",
    "Load the data into a pandas dataframe and develop a dataframe similar to what you have just done in Question no's 6 - 13 above"
   ]
  },
  {
   "cell_type": "raw",
   "metadata": {},
   "source": [
    "# BEGIN SOLUTION"
   ]
  },
  {
   "cell_type": "code",
   "execution_count": 46,
   "metadata": {
    "id": "ooqx8xuoJMn7"
   },
   "outputs": [
    {
     "data": {
      "text/html": [
       "<div>\n",
       "<style scoped>\n",
       "    .dataframe tbody tr th:only-of-type {\n",
       "        vertical-align: middle;\n",
       "    }\n",
       "\n",
       "    .dataframe tbody tr th {\n",
       "        vertical-align: top;\n",
       "    }\n",
       "\n",
       "    .dataframe thead th {\n",
       "        text-align: right;\n",
       "    }\n",
       "</style>\n",
       "<table border=\"1\" class=\"dataframe\">\n",
       "  <thead>\n",
       "    <tr style=\"text-align: right;\">\n",
       "      <th></th>\n",
       "      <th>value_temperature</th>\n",
       "      <th>value_humidity</th>\n",
       "      <th>value_P1</th>\n",
       "      <th>value_P2</th>\n",
       "    </tr>\n",
       "    <tr>\n",
       "      <th>timestamp_new</th>\n",
       "      <th></th>\n",
       "      <th></th>\n",
       "      <th></th>\n",
       "      <th></th>\n",
       "    </tr>\n",
       "  </thead>\n",
       "  <tbody>\n",
       "    <tr>\n",
       "      <th>2021-11-08 00:00:00+00:00</th>\n",
       "      <td>22.686364</td>\n",
       "      <td>58.345455</td>\n",
       "      <td>15.630461</td>\n",
       "      <td>7.453988</td>\n",
       "    </tr>\n",
       "    <tr>\n",
       "      <th>2021-11-09 00:00:00+00:00</th>\n",
       "      <td>20.658672</td>\n",
       "      <td>70.549815</td>\n",
       "      <td>17.660227</td>\n",
       "      <td>9.380498</td>\n",
       "    </tr>\n",
       "    <tr>\n",
       "      <th>2021-11-10 00:00:00+00:00</th>\n",
       "      <td>19.238722</td>\n",
       "      <td>76.812030</td>\n",
       "      <td>16.701885</td>\n",
       "      <td>9.655554</td>\n",
       "    </tr>\n",
       "    <tr>\n",
       "      <th>2021-11-11 00:00:00+00:00</th>\n",
       "      <td>18.610200</td>\n",
       "      <td>77.810565</td>\n",
       "      <td>22.339171</td>\n",
       "      <td>12.062515</td>\n",
       "    </tr>\n",
       "    <tr>\n",
       "      <th>2021-11-12 00:00:00+00:00</th>\n",
       "      <td>21.483636</td>\n",
       "      <td>62.605455</td>\n",
       "      <td>15.782991</td>\n",
       "      <td>8.350538</td>\n",
       "    </tr>\n",
       "    <tr>\n",
       "      <th>2021-11-13 00:00:00+00:00</th>\n",
       "      <td>20.445455</td>\n",
       "      <td>68.125455</td>\n",
       "      <td>15.699063</td>\n",
       "      <td>8.076514</td>\n",
       "    </tr>\n",
       "    <tr>\n",
       "      <th>2021-11-14 00:00:00+00:00</th>\n",
       "      <td>20.840445</td>\n",
       "      <td>65.487941</td>\n",
       "      <td>13.231398</td>\n",
       "      <td>7.141338</td>\n",
       "    </tr>\n",
       "    <tr>\n",
       "      <th>2021-11-15 00:00:00+00:00</th>\n",
       "      <td>19.716946</td>\n",
       "      <td>70.808194</td>\n",
       "      <td>16.817734</td>\n",
       "      <td>9.020470</td>\n",
       "    </tr>\n",
       "    <tr>\n",
       "      <th>2021-11-16 00:00:00+00:00</th>\n",
       "      <td>16.784672</td>\n",
       "      <td>87.235401</td>\n",
       "      <td>23.040520</td>\n",
       "      <td>13.219563</td>\n",
       "    </tr>\n",
       "    <tr>\n",
       "      <th>2021-11-17 00:00:00+00:00</th>\n",
       "      <td>20.812727</td>\n",
       "      <td>65.520000</td>\n",
       "      <td>20.094118</td>\n",
       "      <td>11.903355</td>\n",
       "    </tr>\n",
       "    <tr>\n",
       "      <th>2021-11-18 00:00:00+00:00</th>\n",
       "      <td>20.660036</td>\n",
       "      <td>64.589512</td>\n",
       "      <td>17.037333</td>\n",
       "      <td>8.820608</td>\n",
       "    </tr>\n",
       "    <tr>\n",
       "      <th>2021-11-19 00:00:00+00:00</th>\n",
       "      <td>19.675373</td>\n",
       "      <td>72.738806</td>\n",
       "      <td>23.953518</td>\n",
       "      <td>12.015432</td>\n",
       "    </tr>\n",
       "    <tr>\n",
       "      <th>2021-11-20 00:00:00+00:00</th>\n",
       "      <td>20.258590</td>\n",
       "      <td>73.309222</td>\n",
       "      <td>98.767968</td>\n",
       "      <td>63.060507</td>\n",
       "    </tr>\n",
       "    <tr>\n",
       "      <th>2021-11-21 00:00:00+00:00</th>\n",
       "      <td>19.734545</td>\n",
       "      <td>75.543636</td>\n",
       "      <td>18.985610</td>\n",
       "      <td>10.767766</td>\n",
       "    </tr>\n",
       "    <tr>\n",
       "      <th>2021-11-22 00:00:00+00:00</th>\n",
       "      <td>21.287273</td>\n",
       "      <td>59.676364</td>\n",
       "      <td>14.702265</td>\n",
       "      <td>7.723609</td>\n",
       "    </tr>\n",
       "    <tr>\n",
       "      <th>2021-11-23 00:00:00+00:00</th>\n",
       "      <td>17.869444</td>\n",
       "      <td>70.538889</td>\n",
       "      <td>21.311898</td>\n",
       "      <td>10.154738</td>\n",
       "    </tr>\n",
       "    <tr>\n",
       "      <th>2021-11-24 00:00:00+00:00</th>\n",
       "      <td>20.692168</td>\n",
       "      <td>65.519126</td>\n",
       "      <td>23.472725</td>\n",
       "      <td>10.063291</td>\n",
       "    </tr>\n",
       "    <tr>\n",
       "      <th>2021-11-25 00:00:00+00:00</th>\n",
       "      <td>18.238616</td>\n",
       "      <td>83.597450</td>\n",
       "      <td>24.031706</td>\n",
       "      <td>13.935697</td>\n",
       "    </tr>\n",
       "    <tr>\n",
       "      <th>2021-11-26 00:00:00+00:00</th>\n",
       "      <td>20.249091</td>\n",
       "      <td>79.381818</td>\n",
       "      <td>23.578989</td>\n",
       "      <td>14.231670</td>\n",
       "    </tr>\n",
       "    <tr>\n",
       "      <th>2021-11-27 00:00:00+00:00</th>\n",
       "      <td>20.527372</td>\n",
       "      <td>76.246350</td>\n",
       "      <td>18.454243</td>\n",
       "      <td>10.707223</td>\n",
       "    </tr>\n",
       "    <tr>\n",
       "      <th>2021-11-28 00:00:00+00:00</th>\n",
       "      <td>19.262774</td>\n",
       "      <td>87.664234</td>\n",
       "      <td>12.800815</td>\n",
       "      <td>7.363455</td>\n",
       "    </tr>\n",
       "    <tr>\n",
       "      <th>2021-11-29 00:00:00+00:00</th>\n",
       "      <td>19.217391</td>\n",
       "      <td>91.449275</td>\n",
       "      <td>14.431821</td>\n",
       "      <td>9.389554</td>\n",
       "    </tr>\n",
       "    <tr>\n",
       "      <th>2021-11-30 00:00:00+00:00</th>\n",
       "      <td>19.886861</td>\n",
       "      <td>79.702555</td>\n",
       "      <td>8.779496</td>\n",
       "      <td>4.687329</td>\n",
       "    </tr>\n",
       "  </tbody>\n",
       "</table>\n",
       "</div>"
      ],
      "text/plain": [
       "                           value_temperature  value_humidity   value_P1  \\\n",
       "timestamp_new                                                             \n",
       "2021-11-08 00:00:00+00:00          22.686364       58.345455  15.630461   \n",
       "2021-11-09 00:00:00+00:00          20.658672       70.549815  17.660227   \n",
       "2021-11-10 00:00:00+00:00          19.238722       76.812030  16.701885   \n",
       "2021-11-11 00:00:00+00:00          18.610200       77.810565  22.339171   \n",
       "2021-11-12 00:00:00+00:00          21.483636       62.605455  15.782991   \n",
       "2021-11-13 00:00:00+00:00          20.445455       68.125455  15.699063   \n",
       "2021-11-14 00:00:00+00:00          20.840445       65.487941  13.231398   \n",
       "2021-11-15 00:00:00+00:00          19.716946       70.808194  16.817734   \n",
       "2021-11-16 00:00:00+00:00          16.784672       87.235401  23.040520   \n",
       "2021-11-17 00:00:00+00:00          20.812727       65.520000  20.094118   \n",
       "2021-11-18 00:00:00+00:00          20.660036       64.589512  17.037333   \n",
       "2021-11-19 00:00:00+00:00          19.675373       72.738806  23.953518   \n",
       "2021-11-20 00:00:00+00:00          20.258590       73.309222  98.767968   \n",
       "2021-11-21 00:00:00+00:00          19.734545       75.543636  18.985610   \n",
       "2021-11-22 00:00:00+00:00          21.287273       59.676364  14.702265   \n",
       "2021-11-23 00:00:00+00:00          17.869444       70.538889  21.311898   \n",
       "2021-11-24 00:00:00+00:00          20.692168       65.519126  23.472725   \n",
       "2021-11-25 00:00:00+00:00          18.238616       83.597450  24.031706   \n",
       "2021-11-26 00:00:00+00:00          20.249091       79.381818  23.578989   \n",
       "2021-11-27 00:00:00+00:00          20.527372       76.246350  18.454243   \n",
       "2021-11-28 00:00:00+00:00          19.262774       87.664234  12.800815   \n",
       "2021-11-29 00:00:00+00:00          19.217391       91.449275  14.431821   \n",
       "2021-11-30 00:00:00+00:00          19.886861       79.702555   8.779496   \n",
       "\n",
       "                            value_P2  \n",
       "timestamp_new                         \n",
       "2021-11-08 00:00:00+00:00   7.453988  \n",
       "2021-11-09 00:00:00+00:00   9.380498  \n",
       "2021-11-10 00:00:00+00:00   9.655554  \n",
       "2021-11-11 00:00:00+00:00  12.062515  \n",
       "2021-11-12 00:00:00+00:00   8.350538  \n",
       "2021-11-13 00:00:00+00:00   8.076514  \n",
       "2021-11-14 00:00:00+00:00   7.141338  \n",
       "2021-11-15 00:00:00+00:00   9.020470  \n",
       "2021-11-16 00:00:00+00:00  13.219563  \n",
       "2021-11-17 00:00:00+00:00  11.903355  \n",
       "2021-11-18 00:00:00+00:00   8.820608  \n",
       "2021-11-19 00:00:00+00:00  12.015432  \n",
       "2021-11-20 00:00:00+00:00  63.060507  \n",
       "2021-11-21 00:00:00+00:00  10.767766  \n",
       "2021-11-22 00:00:00+00:00   7.723609  \n",
       "2021-11-23 00:00:00+00:00  10.154738  \n",
       "2021-11-24 00:00:00+00:00  10.063291  \n",
       "2021-11-25 00:00:00+00:00  13.935697  \n",
       "2021-11-26 00:00:00+00:00  14.231670  \n",
       "2021-11-27 00:00:00+00:00  10.707223  \n",
       "2021-11-28 00:00:00+00:00   7.363455  \n",
       "2021-11-29 00:00:00+00:00   9.389554  \n",
       "2021-11-30 00:00:00+00:00   4.687329  "
      ]
     },
     "execution_count": 46,
     "metadata": {},
     "output_type": "execute_result"
    }
   ],
   "source": [
    "# BEGIN SOLUTION\n",
    "#Import only the 'timestamp','value_type'and'value' collumns \n",
    "df_nov = pd.read_csv(r'Nakuru_Sensor_Data_Nov_2021.csv',sep = ';') \n",
    "\n",
    "#Create a new collumn 'timestamp_new' from 'timestamp' rounded off to the second\n",
    "df_nov['timestamp'] = pd.to_datetime(df_nov['timestamp'], infer_datetime_format=True)\n",
    "df_nov['timestamp_new'] = df_nov['timestamp'].dt.floor('S')\n",
    "\n",
    "#Group the data by value_type \n",
    "grouped_nov = df_nov.groupby(df_nov.value_type)\n",
    "df_temperature_nov = grouped_nov.get_group(\"temperature\")\n",
    "df_humidity_nov = grouped_nov.get_group(\"humidity\")\n",
    "df_P1_nov = grouped_nov.get_group(\"P1\")\n",
    "df_P2_nov= grouped_nov.get_group(\"P2\")\n",
    "\n",
    "#print(\"New timestamp\",df_P2_nov['timestamp_new'])\n",
    "\n",
    "#Create a new dataframe by merging the grouped data frames \n",
    "df_merged_nov = df_temperature_nov.merge(df_humidity_nov,how='left', on='timestamp_new',suffixes=('_temperature', '_humidity'))\n",
    "df_merged_nov = df_merged_nov.merge(df_P1_nov,how='left', on='timestamp_new',suffixes=('_prev', '_P1'))\n",
    "df_merged_nov = df_merged_nov.merge(df_P2_nov,how='left', on='timestamp_new',suffixes=('_P1', '_P2'))\n",
    "#print(\"Merged November - \",df_merged_nov)\n",
    "\n",
    "#Open the new file \n",
    "from pathlib import Path  \n",
    "filepath = Path('newdata_nov.csv')  \n",
    "filepath.parent.mkdir(parents=True, exist_ok=True)  \n",
    "df_merged_nov.to_csv(filepath)  \n",
    "\n",
    "new_df_nov = pd.read_csv(r'newdata_nov.csv',usecols=['timestamp_new','value_temperature','value_humidity','value_P1','value_P2'])\n",
    "#new_df_nov \n",
    "\n",
    "#replace missing values with the mean \n",
    "new_df_nov['value_P1'].fillna(new_df_nov['value_P1'].mean(), inplace=True) \n",
    "new_df_nov['value_P2'].fillna(new_df_nov['value_P2'].mean(), inplace=True) \n",
    "\n",
    "#Create a new dataframe comprising of the average values of the variables by day\n",
    "new_df_nov['timestamp_new'] = pd.to_datetime(new_df_nov['timestamp_new'], infer_datetime_format=True)\n",
    "new_df_nov['timestamp_new'] = new_df_nov['timestamp_new'].dt.floor('D')\n",
    "# END SOLUTION\n",
    "means_nov = new_df_nov.groupby('timestamp_new').mean() # SOLUTION\n",
    "means_nov"
   ]
  },
  {
   "cell_type": "raw",
   "metadata": {},
   "source": [
    "# END SOLUTION"
   ]
  },
  {
   "cell_type": "raw",
   "metadata": {},
   "source": [
    "# END QUESTION"
   ]
  },
  {
   "cell_type": "raw",
   "metadata": {},
   "source": [
    "# BEGIN QUESTION\n",
    "name: q_E10"
   ]
  },
  {
   "cell_type": "markdown",
   "metadata": {
    "id": "gS7RRkZpnYqa"
   },
   "source": [
    "**Question E10:** Convert the means_feb and means_nov to numpy arrays ... and then compute the average of each collumn\n",
    "\n",
    "Hint: The results are numpy arrays"
   ]
  },
  {
   "cell_type": "raw",
   "metadata": {},
   "source": [
    "# BEGIN SOLUTION"
   ]
  },
  {
   "cell_type": "code",
   "execution_count": 47,
   "metadata": {
    "id": "hbgK6RQ8nDXw"
   },
   "outputs": [
    {
     "data": {
      "text/plain": [
       "array([21.79315977, 65.64335563, 24.58638918,  9.7374438 ])"
      ]
     },
     "execution_count": 47,
     "metadata": {},
     "output_type": "execute_result"
    }
   ],
   "source": [
    "feb_numpy_array = means_feb.to_numpy() # SOLUTION\n",
    "feb_average = np.mean(feb_numpy_array, axis = 0) # SOLUTION\n",
    "feb_average"
   ]
  },
  {
   "cell_type": "code",
   "execution_count": 48,
   "metadata": {
    "id": "r6-iwnWSoIDE"
   },
   "outputs": [
    {
     "data": {
      "text/plain": [
       "array([19.94945098, 73.18511072, 21.62199812, 12.1384875 ])"
      ]
     },
     "execution_count": 48,
     "metadata": {},
     "output_type": "execute_result"
    }
   ],
   "source": [
    "nov_numpy_array = means_nov.to_numpy() # SOLUTION\n",
    "nov_average = np.mean(nov_numpy_array, axis = 0) # SOLUTION\n",
    "nov_average"
   ]
  },
  {
   "cell_type": "raw",
   "metadata": {},
   "source": [
    "# END SOLUTION"
   ]
  },
  {
   "cell_type": "raw",
   "metadata": {},
   "source": [
    "# END QUESTION"
   ]
  },
  {
   "cell_type": "raw",
   "metadata": {},
   "source": [
    "# BEGIN QUESTION\n",
    "name: q_E11"
   ]
  },
  {
   "cell_type": "markdown",
   "metadata": {
    "id": "zc6tiksMqSb0"
   },
   "source": [
    "**Question E11:** Write a function to compute the difference in the average temperature, humidity, P1 and P2 between November 2021 and February 2023\n",
    "\n",
    "Hint: The result is a vector of the form [w,x,y,z]"
   ]
  },
  {
   "cell_type": "raw",
   "metadata": {},
   "source": [
    "# BEGIN SOLUTION"
   ]
  },
  {
   "cell_type": "code",
   "execution_count": 49,
   "metadata": {
    "id": "AWCrhXpKqPJQ"
   },
   "outputs": [
    {
     "name": "stdout",
     "output_type": "stream",
     "text": [
      "[-1.843708786643539, 7.541755088501233, -2.9643910619456335, 2.401043706184998]\n"
     ]
    }
   ],
   "source": [
    "def sub():\n",
    "    # BEGIN SOLUTION\n",
    "    diff = []\n",
    "    for i in range(len(nov_average)):\n",
    "        result = nov_average[i] - feb_average[i]\n",
    "        diff.append(result)\n",
    "    # END SOLUTION\n",
    "    return diff\n",
    " \n",
    "# Print the result of the subtraction\n",
    "difference = sub()\n",
    "print(difference)"
   ]
  },
  {
   "cell_type": "raw",
   "metadata": {
    "id": "kGsZ_oD43ENf"
   },
   "source": [
    "# END SOLUTION"
   ]
  },
  {
   "cell_type": "raw",
   "metadata": {},
   "source": [
    "# END QUESTION"
   ]
  }
 ],
 "metadata": {
  "colab": {
   "provenance": []
  },
  "kernelspec": {
   "display_name": "Python 3 (ipykernel)",
   "language": "python",
   "name": "python3"
  },
  "language_info": {
   "codemirror_mode": {
    "name": "ipython",
    "version": 3
   },
   "file_extension": ".py",
   "mimetype": "text/x-python",
   "name": "python",
   "nbconvert_exporter": "python",
   "pygments_lexer": "ipython3",
   "version": "3.10.5"
  },
  "varInspector": {
   "cols": {
    "lenName": 16,
    "lenType": 16,
    "lenVar": 40
   },
   "kernels_config": {
    "python": {
     "delete_cmd_postfix": "",
     "delete_cmd_prefix": "del ",
     "library": "var_list.py",
     "varRefreshCmd": "print(var_dic_list())"
    },
    "r": {
     "delete_cmd_postfix": ") ",
     "delete_cmd_prefix": "rm(",
     "library": "var_list.r",
     "varRefreshCmd": "cat(var_dic_list()) "
    }
   },
   "types_to_exclude": [
    "module",
    "function",
    "builtin_function_or_method",
    "instance",
    "_Feature"
   ],
   "window_display": false
  }
 },
 "nbformat": 4,
 "nbformat_minor": 4
}
